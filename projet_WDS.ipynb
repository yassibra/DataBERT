{
  "nbformat": 4,
  "nbformat_minor": 0,
  "metadata": {
    "kernelspec": {
      "display_name": "Python 3",
      "language": "python",
      "name": "python3"
    },
    "language_info": {
      "codemirror_mode": {
        "name": "ipython",
        "version": 3
      },
      "file_extension": ".py",
      "mimetype": "text/x-python",
      "name": "python",
      "nbconvert_exporter": "python",
      "pygments_lexer": "ipython3",
      "version": "3.7.9"
    },
    "colab": {
      "provenance": []
    },
    "widgets": {
      "application/vnd.jupyter.widget-state+json": {
        "a5611e1877c246e88f8c9ba7f73fcd14": {
          "model_module": "@jupyter-widgets/controls",
          "model_name": "HBoxModel",
          "state": {
            "_view_name": "HBoxView",
            "_dom_classes": [],
            "_model_name": "HBoxModel",
            "_view_module": "@jupyter-widgets/controls",
            "_model_module_version": "1.5.0",
            "_view_count": null,
            "_view_module_version": "1.5.0",
            "box_style": "",
            "layout": "IPY_MODEL_2a63baf0cdab419d985d39d07e0b376c",
            "_model_module": "@jupyter-widgets/controls",
            "children": [
              "IPY_MODEL_b43699041dea4a7bb0f97ccf078e5c8b",
              "IPY_MODEL_bc909bc1b05b4067a947a03dd2708a17"
            ]
          },
          "model_module_version": "1.5.0"
        },
        "2a63baf0cdab419d985d39d07e0b376c": {
          "model_module": "@jupyter-widgets/base",
          "model_name": "LayoutModel",
          "state": {
            "_view_name": "LayoutView",
            "grid_template_rows": null,
            "right": null,
            "justify_content": null,
            "_view_module": "@jupyter-widgets/base",
            "overflow": null,
            "_model_module_version": "1.2.0",
            "_view_count": null,
            "flex_flow": null,
            "width": null,
            "min_width": null,
            "border": null,
            "align_items": null,
            "bottom": null,
            "_model_module": "@jupyter-widgets/base",
            "top": null,
            "grid_column": null,
            "overflow_y": null,
            "overflow_x": null,
            "grid_auto_flow": null,
            "grid_area": null,
            "grid_template_columns": null,
            "flex": null,
            "_model_name": "LayoutModel",
            "justify_items": null,
            "grid_row": null,
            "max_height": null,
            "align_content": null,
            "visibility": null,
            "align_self": null,
            "height": null,
            "min_height": null,
            "padding": null,
            "grid_auto_rows": null,
            "grid_gap": null,
            "max_width": null,
            "order": null,
            "_view_module_version": "1.2.0",
            "grid_template_areas": null,
            "object_position": null,
            "object_fit": null,
            "grid_auto_columns": null,
            "margin": null,
            "display": null,
            "left": null
          },
          "model_module_version": "1.2.0"
        },
        "b43699041dea4a7bb0f97ccf078e5c8b": {
          "model_module": "@jupyter-widgets/controls",
          "model_name": "FloatProgressModel",
          "state": {
            "_view_name": "ProgressView",
            "style": "IPY_MODEL_6bebeb3da1ff494196ff8b3c5beb3cff",
            "_dom_classes": [],
            "description": "Downloading: 100%",
            "_model_name": "FloatProgressModel",
            "bar_style": "success",
            "max": 1496,
            "_view_module": "@jupyter-widgets/controls",
            "_model_module_version": "1.5.0",
            "value": 1496,
            "_view_count": null,
            "_view_module_version": "1.5.0",
            "orientation": "horizontal",
            "min": 0,
            "description_tooltip": null,
            "_model_module": "@jupyter-widgets/controls",
            "layout": "IPY_MODEL_a15458eba4fe4a3b93dcc3f9494990e3"
          },
          "model_module_version": "1.5.0"
        },
        "bc909bc1b05b4067a947a03dd2708a17": {
          "model_module": "@jupyter-widgets/controls",
          "model_name": "HTMLModel",
          "state": {
            "_view_name": "HTMLView",
            "style": "IPY_MODEL_fd9fe2c7ea1c4d3b98de684243201383",
            "_dom_classes": [],
            "description": "",
            "_model_name": "HTMLModel",
            "placeholder": "​",
            "_view_module": "@jupyter-widgets/controls",
            "_model_module_version": "1.5.0",
            "value": " 1.50k/1.50k [00:02&lt;00:00, 669B/s]",
            "_view_count": null,
            "_view_module_version": "1.5.0",
            "description_tooltip": null,
            "_model_module": "@jupyter-widgets/controls",
            "layout": "IPY_MODEL_21b7360121934bc392a719c6eedef583"
          },
          "model_module_version": "1.5.0"
        },
        "6bebeb3da1ff494196ff8b3c5beb3cff": {
          "model_module": "@jupyter-widgets/controls",
          "model_name": "ProgressStyleModel",
          "state": {
            "_view_name": "StyleView",
            "_model_name": "ProgressStyleModel",
            "description_width": "initial",
            "_view_module": "@jupyter-widgets/base",
            "_model_module_version": "1.5.0",
            "_view_count": null,
            "_view_module_version": "1.2.0",
            "bar_color": null,
            "_model_module": "@jupyter-widgets/controls"
          },
          "model_module_version": "1.5.0"
        },
        "a15458eba4fe4a3b93dcc3f9494990e3": {
          "model_module": "@jupyter-widgets/base",
          "model_name": "LayoutModel",
          "state": {
            "_view_name": "LayoutView",
            "grid_template_rows": null,
            "right": null,
            "justify_content": null,
            "_view_module": "@jupyter-widgets/base",
            "overflow": null,
            "_model_module_version": "1.2.0",
            "_view_count": null,
            "flex_flow": null,
            "width": null,
            "min_width": null,
            "border": null,
            "align_items": null,
            "bottom": null,
            "_model_module": "@jupyter-widgets/base",
            "top": null,
            "grid_column": null,
            "overflow_y": null,
            "overflow_x": null,
            "grid_auto_flow": null,
            "grid_area": null,
            "grid_template_columns": null,
            "flex": null,
            "_model_name": "LayoutModel",
            "justify_items": null,
            "grid_row": null,
            "max_height": null,
            "align_content": null,
            "visibility": null,
            "align_self": null,
            "height": null,
            "min_height": null,
            "padding": null,
            "grid_auto_rows": null,
            "grid_gap": null,
            "max_width": null,
            "order": null,
            "_view_module_version": "1.2.0",
            "grid_template_areas": null,
            "object_position": null,
            "object_fit": null,
            "grid_auto_columns": null,
            "margin": null,
            "display": null,
            "left": null
          },
          "model_module_version": "1.2.0"
        },
        "fd9fe2c7ea1c4d3b98de684243201383": {
          "model_module": "@jupyter-widgets/controls",
          "model_name": "DescriptionStyleModel",
          "state": {
            "_view_name": "StyleView",
            "_model_name": "DescriptionStyleModel",
            "description_width": "",
            "_view_module": "@jupyter-widgets/base",
            "_model_module_version": "1.5.0",
            "_view_count": null,
            "_view_module_version": "1.2.0",
            "_model_module": "@jupyter-widgets/controls"
          },
          "model_module_version": "1.5.0"
        },
        "21b7360121934bc392a719c6eedef583": {
          "model_module": "@jupyter-widgets/base",
          "model_name": "LayoutModel",
          "state": {
            "_view_name": "LayoutView",
            "grid_template_rows": null,
            "right": null,
            "justify_content": null,
            "_view_module": "@jupyter-widgets/base",
            "overflow": null,
            "_model_module_version": "1.2.0",
            "_view_count": null,
            "flex_flow": null,
            "width": null,
            "min_width": null,
            "border": null,
            "align_items": null,
            "bottom": null,
            "_model_module": "@jupyter-widgets/base",
            "top": null,
            "grid_column": null,
            "overflow_y": null,
            "overflow_x": null,
            "grid_auto_flow": null,
            "grid_area": null,
            "grid_template_columns": null,
            "flex": null,
            "_model_name": "LayoutModel",
            "justify_items": null,
            "grid_row": null,
            "max_height": null,
            "align_content": null,
            "visibility": null,
            "align_self": null,
            "height": null,
            "min_height": null,
            "padding": null,
            "grid_auto_rows": null,
            "grid_gap": null,
            "max_width": null,
            "order": null,
            "_view_module_version": "1.2.0",
            "grid_template_areas": null,
            "object_position": null,
            "object_fit": null,
            "grid_auto_columns": null,
            "margin": null,
            "display": null,
            "left": null
          },
          "model_module_version": "1.2.0"
        },
        "cb2114aab6ab480cb6023fa0e5578c28": {
          "model_module": "@jupyter-widgets/controls",
          "model_name": "HBoxModel",
          "state": {
            "_view_name": "HBoxView",
            "_dom_classes": [],
            "_model_name": "HBoxModel",
            "_view_module": "@jupyter-widgets/controls",
            "_model_module_version": "1.5.0",
            "_view_count": null,
            "_view_module_version": "1.5.0",
            "box_style": "",
            "layout": "IPY_MODEL_ea2cbc25c2504383bbe9ecd164448d84",
            "_model_module": "@jupyter-widgets/controls",
            "children": [
              "IPY_MODEL_67034dd7a099431d92976a1c2d237e31",
              "IPY_MODEL_ff41d7c375274c64931a86c6d8c7a0bb"
            ]
          },
          "model_module_version": "1.5.0"
        },
        "ea2cbc25c2504383bbe9ecd164448d84": {
          "model_module": "@jupyter-widgets/base",
          "model_name": "LayoutModel",
          "state": {
            "_view_name": "LayoutView",
            "grid_template_rows": null,
            "right": null,
            "justify_content": null,
            "_view_module": "@jupyter-widgets/base",
            "overflow": null,
            "_model_module_version": "1.2.0",
            "_view_count": null,
            "flex_flow": null,
            "width": null,
            "min_width": null,
            "border": null,
            "align_items": null,
            "bottom": null,
            "_model_module": "@jupyter-widgets/base",
            "top": null,
            "grid_column": null,
            "overflow_y": null,
            "overflow_x": null,
            "grid_auto_flow": null,
            "grid_area": null,
            "grid_template_columns": null,
            "flex": null,
            "_model_name": "LayoutModel",
            "justify_items": null,
            "grid_row": null,
            "max_height": null,
            "align_content": null,
            "visibility": null,
            "align_self": null,
            "height": null,
            "min_height": null,
            "padding": null,
            "grid_auto_rows": null,
            "grid_gap": null,
            "max_width": null,
            "order": null,
            "_view_module_version": "1.2.0",
            "grid_template_areas": null,
            "object_position": null,
            "object_fit": null,
            "grid_auto_columns": null,
            "margin": null,
            "display": null,
            "left": null
          },
          "model_module_version": "1.2.0"
        },
        "67034dd7a099431d92976a1c2d237e31": {
          "model_module": "@jupyter-widgets/controls",
          "model_name": "FloatProgressModel",
          "state": {
            "_view_name": "ProgressView",
            "style": "IPY_MODEL_70315c6a722e4176a2af4b631c755d36",
            "_dom_classes": [],
            "description": "Downloading: 100%",
            "_model_name": "FloatProgressModel",
            "bar_style": "success",
            "max": 1561415,
            "_view_module": "@jupyter-widgets/controls",
            "_model_module_version": "1.5.0",
            "value": 1561415,
            "_view_count": null,
            "_view_module_version": "1.5.0",
            "orientation": "horizontal",
            "min": 0,
            "description_tooltip": null,
            "_model_module": "@jupyter-widgets/controls",
            "layout": "IPY_MODEL_adb58c36931a412e802c295694410b9c"
          },
          "model_module_version": "1.5.0"
        },
        "ff41d7c375274c64931a86c6d8c7a0bb": {
          "model_module": "@jupyter-widgets/controls",
          "model_name": "HTMLModel",
          "state": {
            "_view_name": "HTMLView",
            "style": "IPY_MODEL_1ffee7d44a3347adbc88c47208679bd6",
            "_dom_classes": [],
            "description": "",
            "_model_name": "HTMLModel",
            "placeholder": "​",
            "_view_module": "@jupyter-widgets/controls",
            "_model_module_version": "1.5.0",
            "value": " 1.56M/1.56M [00:01&lt;00:00, 968kB/s]",
            "_view_count": null,
            "_view_module_version": "1.5.0",
            "description_tooltip": null,
            "_model_module": "@jupyter-widgets/controls",
            "layout": "IPY_MODEL_8fd286d4947644c5b7f1cc9cb8f5b179"
          },
          "model_module_version": "1.5.0"
        },
        "70315c6a722e4176a2af4b631c755d36": {
          "model_module": "@jupyter-widgets/controls",
          "model_name": "ProgressStyleModel",
          "state": {
            "_view_name": "StyleView",
            "_model_name": "ProgressStyleModel",
            "description_width": "initial",
            "_view_module": "@jupyter-widgets/base",
            "_model_module_version": "1.5.0",
            "_view_count": null,
            "_view_module_version": "1.2.0",
            "bar_color": null,
            "_model_module": "@jupyter-widgets/controls"
          },
          "model_module_version": "1.5.0"
        },
        "adb58c36931a412e802c295694410b9c": {
          "model_module": "@jupyter-widgets/base",
          "model_name": "LayoutModel",
          "state": {
            "_view_name": "LayoutView",
            "grid_template_rows": null,
            "right": null,
            "justify_content": null,
            "_view_module": "@jupyter-widgets/base",
            "overflow": null,
            "_model_module_version": "1.2.0",
            "_view_count": null,
            "flex_flow": null,
            "width": null,
            "min_width": null,
            "border": null,
            "align_items": null,
            "bottom": null,
            "_model_module": "@jupyter-widgets/base",
            "top": null,
            "grid_column": null,
            "overflow_y": null,
            "overflow_x": null,
            "grid_auto_flow": null,
            "grid_area": null,
            "grid_template_columns": null,
            "flex": null,
            "_model_name": "LayoutModel",
            "justify_items": null,
            "grid_row": null,
            "max_height": null,
            "align_content": null,
            "visibility": null,
            "align_self": null,
            "height": null,
            "min_height": null,
            "padding": null,
            "grid_auto_rows": null,
            "grid_gap": null,
            "max_width": null,
            "order": null,
            "_view_module_version": "1.2.0",
            "grid_template_areas": null,
            "object_position": null,
            "object_fit": null,
            "grid_auto_columns": null,
            "margin": null,
            "display": null,
            "left": null
          },
          "model_module_version": "1.2.0"
        },
        "1ffee7d44a3347adbc88c47208679bd6": {
          "model_module": "@jupyter-widgets/controls",
          "model_name": "DescriptionStyleModel",
          "state": {
            "_view_name": "StyleView",
            "_model_name": "DescriptionStyleModel",
            "description_width": "",
            "_view_module": "@jupyter-widgets/base",
            "_model_module_version": "1.5.0",
            "_view_count": null,
            "_view_module_version": "1.2.0",
            "_model_module": "@jupyter-widgets/controls"
          },
          "model_module_version": "1.5.0"
        },
        "8fd286d4947644c5b7f1cc9cb8f5b179": {
          "model_module": "@jupyter-widgets/base",
          "model_name": "LayoutModel",
          "state": {
            "_view_name": "LayoutView",
            "grid_template_rows": null,
            "right": null,
            "justify_content": null,
            "_view_module": "@jupyter-widgets/base",
            "overflow": null,
            "_model_module_version": "1.2.0",
            "_view_count": null,
            "flex_flow": null,
            "width": null,
            "min_width": null,
            "border": null,
            "align_items": null,
            "bottom": null,
            "_model_module": "@jupyter-widgets/base",
            "top": null,
            "grid_column": null,
            "overflow_y": null,
            "overflow_x": null,
            "grid_auto_flow": null,
            "grid_area": null,
            "grid_template_columns": null,
            "flex": null,
            "_model_name": "LayoutModel",
            "justify_items": null,
            "grid_row": null,
            "max_height": null,
            "align_content": null,
            "visibility": null,
            "align_self": null,
            "height": null,
            "min_height": null,
            "padding": null,
            "grid_auto_rows": null,
            "grid_gap": null,
            "max_width": null,
            "order": null,
            "_view_module_version": "1.2.0",
            "grid_template_areas": null,
            "object_position": null,
            "object_fit": null,
            "grid_auto_columns": null,
            "margin": null,
            "display": null,
            "left": null
          },
          "model_module_version": "1.2.0"
        },
        "719b612ae5ab417d81876ae8744cf85f": {
          "model_module": "@jupyter-widgets/controls",
          "model_name": "HBoxModel",
          "state": {
            "_view_name": "HBoxView",
            "_dom_classes": [],
            "_model_name": "HBoxModel",
            "_view_module": "@jupyter-widgets/controls",
            "_model_module_version": "1.5.0",
            "_view_count": null,
            "_view_module_version": "1.5.0",
            "box_style": "",
            "layout": "IPY_MODEL_39f9c710ebd84b6fa81c4b9205c18a15",
            "_model_module": "@jupyter-widgets/controls",
            "children": [
              "IPY_MODEL_23f0f80a2faa4228a1897b5b92562fff",
              "IPY_MODEL_200efeb1a36f47b888af30721f1e8a97"
            ]
          },
          "model_module_version": "1.5.0"
        },
        "39f9c710ebd84b6fa81c4b9205c18a15": {
          "model_module": "@jupyter-widgets/base",
          "model_name": "LayoutModel",
          "state": {
            "_view_name": "LayoutView",
            "grid_template_rows": null,
            "right": null,
            "justify_content": null,
            "_view_module": "@jupyter-widgets/base",
            "overflow": null,
            "_model_module_version": "1.2.0",
            "_view_count": null,
            "flex_flow": null,
            "width": null,
            "min_width": null,
            "border": null,
            "align_items": null,
            "bottom": null,
            "_model_module": "@jupyter-widgets/base",
            "top": null,
            "grid_column": null,
            "overflow_y": null,
            "overflow_x": null,
            "grid_auto_flow": null,
            "grid_area": null,
            "grid_template_columns": null,
            "flex": null,
            "_model_name": "LayoutModel",
            "justify_items": null,
            "grid_row": null,
            "max_height": null,
            "align_content": null,
            "visibility": null,
            "align_self": null,
            "height": null,
            "min_height": null,
            "padding": null,
            "grid_auto_rows": null,
            "grid_gap": null,
            "max_width": null,
            "order": null,
            "_view_module_version": "1.2.0",
            "grid_template_areas": null,
            "object_position": null,
            "object_fit": null,
            "grid_auto_columns": null,
            "margin": null,
            "display": null,
            "left": null
          },
          "model_module_version": "1.2.0"
        },
        "23f0f80a2faa4228a1897b5b92562fff": {
          "model_module": "@jupyter-widgets/controls",
          "model_name": "FloatProgressModel",
          "state": {
            "_view_name": "ProgressView",
            "style": "IPY_MODEL_062aa7e54cce40c99ca2e1043f134b90",
            "_dom_classes": [],
            "description": "Downloading: 100%",
            "_model_name": "FloatProgressModel",
            "bar_style": "success",
            "max": 895731,
            "_view_module": "@jupyter-widgets/controls",
            "_model_module_version": "1.5.0",
            "value": 895731,
            "_view_count": null,
            "_view_module_version": "1.5.0",
            "orientation": "horizontal",
            "min": 0,
            "description_tooltip": null,
            "_model_module": "@jupyter-widgets/controls",
            "layout": "IPY_MODEL_ced61c53666f45f48fe301f2af4e5e35"
          },
          "model_module_version": "1.5.0"
        },
        "200efeb1a36f47b888af30721f1e8a97": {
          "model_module": "@jupyter-widgets/controls",
          "model_name": "HTMLModel",
          "state": {
            "_view_name": "HTMLView",
            "style": "IPY_MODEL_496703edea874c6fb8a22fd32e456081",
            "_dom_classes": [],
            "description": "",
            "_model_name": "HTMLModel",
            "placeholder": "​",
            "_view_module": "@jupyter-widgets/controls",
            "_model_module_version": "1.5.0",
            "value": " 896k/896k [00:00&lt;00:00, 1.58MB/s]",
            "_view_count": null,
            "_view_module_version": "1.5.0",
            "description_tooltip": null,
            "_model_module": "@jupyter-widgets/controls",
            "layout": "IPY_MODEL_0a05f98a9e1a48729e833652dc413be5"
          },
          "model_module_version": "1.5.0"
        },
        "062aa7e54cce40c99ca2e1043f134b90": {
          "model_module": "@jupyter-widgets/controls",
          "model_name": "ProgressStyleModel",
          "state": {
            "_view_name": "StyleView",
            "_model_name": "ProgressStyleModel",
            "description_width": "initial",
            "_view_module": "@jupyter-widgets/base",
            "_model_module_version": "1.5.0",
            "_view_count": null,
            "_view_module_version": "1.2.0",
            "bar_color": null,
            "_model_module": "@jupyter-widgets/controls"
          },
          "model_module_version": "1.5.0"
        },
        "ced61c53666f45f48fe301f2af4e5e35": {
          "model_module": "@jupyter-widgets/base",
          "model_name": "LayoutModel",
          "state": {
            "_view_name": "LayoutView",
            "grid_template_rows": null,
            "right": null,
            "justify_content": null,
            "_view_module": "@jupyter-widgets/base",
            "overflow": null,
            "_model_module_version": "1.2.0",
            "_view_count": null,
            "flex_flow": null,
            "width": null,
            "min_width": null,
            "border": null,
            "align_items": null,
            "bottom": null,
            "_model_module": "@jupyter-widgets/base",
            "top": null,
            "grid_column": null,
            "overflow_y": null,
            "overflow_x": null,
            "grid_auto_flow": null,
            "grid_area": null,
            "grid_template_columns": null,
            "flex": null,
            "_model_name": "LayoutModel",
            "justify_items": null,
            "grid_row": null,
            "max_height": null,
            "align_content": null,
            "visibility": null,
            "align_self": null,
            "height": null,
            "min_height": null,
            "padding": null,
            "grid_auto_rows": null,
            "grid_gap": null,
            "max_width": null,
            "order": null,
            "_view_module_version": "1.2.0",
            "grid_template_areas": null,
            "object_position": null,
            "object_fit": null,
            "grid_auto_columns": null,
            "margin": null,
            "display": null,
            "left": null
          },
          "model_module_version": "1.2.0"
        },
        "496703edea874c6fb8a22fd32e456081": {
          "model_module": "@jupyter-widgets/controls",
          "model_name": "DescriptionStyleModel",
          "state": {
            "_view_name": "StyleView",
            "_model_name": "DescriptionStyleModel",
            "description_width": "",
            "_view_module": "@jupyter-widgets/base",
            "_model_module_version": "1.5.0",
            "_view_count": null,
            "_view_module_version": "1.2.0",
            "_model_module": "@jupyter-widgets/controls"
          },
          "model_module_version": "1.5.0"
        },
        "0a05f98a9e1a48729e833652dc413be5": {
          "model_module": "@jupyter-widgets/base",
          "model_name": "LayoutModel",
          "state": {
            "_view_name": "LayoutView",
            "grid_template_rows": null,
            "right": null,
            "justify_content": null,
            "_view_module": "@jupyter-widgets/base",
            "overflow": null,
            "_model_module_version": "1.2.0",
            "_view_count": null,
            "flex_flow": null,
            "width": null,
            "min_width": null,
            "border": null,
            "align_items": null,
            "bottom": null,
            "_model_module": "@jupyter-widgets/base",
            "top": null,
            "grid_column": null,
            "overflow_y": null,
            "overflow_x": null,
            "grid_auto_flow": null,
            "grid_area": null,
            "grid_template_columns": null,
            "flex": null,
            "_model_name": "LayoutModel",
            "justify_items": null,
            "grid_row": null,
            "max_height": null,
            "align_content": null,
            "visibility": null,
            "align_self": null,
            "height": null,
            "min_height": null,
            "padding": null,
            "grid_auto_rows": null,
            "grid_gap": null,
            "max_width": null,
            "order": null,
            "_view_module_version": "1.2.0",
            "grid_template_areas": null,
            "object_position": null,
            "object_fit": null,
            "grid_auto_columns": null,
            "margin": null,
            "display": null,
            "left": null
          },
          "model_module_version": "1.2.0"
        }
      }
    }
  },
  "cells": [
    {
      "cell_type": "markdown",
      "metadata": {
        "id": "ADMDWc5LgpC0"
      },
      "source": [
        "\n",
        "\n",
        "---\n",
        "\n",
        "# WSD par fine-tuning d'un modèle *BERT"
      ]
    },
    {
      "cell_type": "markdown",
      "metadata": {
        "id": "sUrBv8Gvg2bE"
      },
      "source": [
        "On utilise ici les données du French FrameNet \"ASFALDA\": dans ces données, certains mots ont été associés à un frame FrameNet\n",
        "- ces mots sont les \"targets\"\n",
        "- **associer le bon frame à un target correspond à une tâche de WSD**\n",
        "- modulo le fait qu'un même frame regroupe plusieurs entrées lexicales (par exemple FR_Commerce_buy => acheter.v, achat.n, acquérir.v, etc...)\n",
        "- dans les données, les phrases contenant plusieurs targets ont été dupliquées: on a une ligne par couple phrase + target\n",
        "\n",
        "Les données FrameNet comprennent également l'annotation des arguments sémantiques, et leur typage au moyen d'un rôle (Buyer, Seller, Goods ...), que l'on ignorera ici.\n",
        "\n",
        "On va construire un classifieur :\n",
        "- entrée = un target et sa phrase de contexte\n",
        "- sortie = une distribution de probas sur les différents sens\n",
        "  - ici les sens sont des frames\n",
        "  - on peut ou pas contraindre que les sens \"permis\" pour un target soient uniquement ceux vus à l'entraîînement pour ce target (pour ce lemme)\n",
        "\n",
        "On utilisera un modèle *BERT pour obtenir une représentation contextuelle du mot target.\n",
        "\n",
        "Mais BERT donne des vecteurs contextuels pour chaque **token**, un token pouvant être un sous-mot.\n",
        "**Dans la version de base, vous utiliserez le vecteur *BERT du premier token du mot target.**\n",
        "\n",
        "Ainsi pour le target *comprenions* dans:\n",
        "\n",
        "*Nous comprenions bien le cours*\n",
        "\n",
        "tokenisé en :\n",
        "\n",
        "'\\<s>', 'Nous\\</w>', 'compren', 'ions\\</w>', 'bien\\</w>', 'le\\</w>', 'cours\\</w>', '.\\</w>, '\\</s>'\n",
        "\n",
        "vous utiliserez le vecteur caché du sous-mot \"compren\".\n",
        "\n",
        "Le classifieur dans la version de base sera un réseau de neurones constitué\n",
        "- d'un réseau *BERT\n",
        "- dont on récupère le vecteur caché du 1er sous-mot du target\n",
        "- et une couche linéaire + softmax sur les différents frames présents dans les données d'entraînement.\n",
        "\n",
        "Le classifieur est unique pour tous les lemmes, et peut prédire tout sens(frame) pour tout lemme target, même s'il s'agit d'un sens non vu pour ce lemme dans les données d'apprentissage.\n",
        "\n"
      ]
    },
    {
      "cell_type": "code",
      "metadata": {
        "id": "xp3IN9YQexxx"
      },
      "source": [
        "import torch\n",
        "import torch.nn as nn\n",
        "import torch.nn.functional as F\n",
        "import torch.optim as optim\n",
        "#from tqdm import tqdm  \n",
        "from tqdm.notebook import tqdm # for progress bars in notebooks\n",
        "from random import shuffle\n",
        "import os\n"
      ],
      "execution_count": null,
      "outputs": []
    },
    {
      "cell_type": "markdown",
      "metadata": {
        "id": "f_c3C5Pzexx-"
      },
      "source": [
        "## Conventions de nommage des variables\n",
        "\n",
        "- on considère des phrases déjà segmentées en mots (avec segmenteur par règles)\n",
        "- (mais pas encore segmentées en sous-mots)\n",
        "- on utilise \"word\" ou \"w\" pour un mot (ou ponctuation)\n",
        "- et \"token\" après tokenisation de type *BERT (BPE ou WordPiece etc...)\n",
        "\n",
        "- on distingue dans les noms de variables \n",
        " - les identifiants entiers des symboles \n",
        "   (pour le vocabulaire des tokens, le vocabulaire des labels ...)\n",
        " - versus le rang d'un élément (token ou mot) dans une séquence\n",
        "- tid => id de token\n",
        "- trk / wrk => rang de token / rang de mot dans une séquence\n",
        "- tg => \"target\", donc \n",
        " - tg_wrk = le rang dans la phrase du mot target\n",
        " - tg_trk = le rang dans la tokenisation *BERT du premier token du mot target\n"
      ]
    },
    {
      "cell_type": "markdown",
      "metadata": {
        "id": "vfm0CXb9exyF"
      },
      "source": [
        "## Les données \"ASFALDA\"\n",
        "\n",
        "---\n",
        "\n",
        "\n",
        "\n",
        "Il s'agit des données d'un FrameNet du français, comprenant environ 16000 annotations, pour environ 100 frames distincts.\n"
      ]
    },
    {
      "cell_type": "markdown",
      "metadata": {
        "id": "kySX0ye3jdpP"
      },
      "source": [
        "### Récupération des données\n",
        "\n",
        "> Indented block\n",
        "\n"
      ]
    },
    {
      "cell_type": "markdown",
      "metadata": {
        "id": "D_2cjFvYfOn3"
      },
      "source": [
        "### Lecture des données"
      ]
    },
    {
      "cell_type": "code",
      "metadata": {
        "id": "fYQhZaBzexyF"
      },
      "source": [
        "# lecture des données\n",
        "\n",
        "def load_asfalda_data(gold_data_file, split_info_file, val_proportion=None):\n",
        "    \"\"\"\n",
        "        Inputs: - asfalda gold data file\n",
        "                - file with list of sentid / corpus type pairs (corpus types train/dev/test)\n",
        "                - val_proportion : if set to value > 0 (and <1)\n",
        "                  the training file is split into train/validation\n",
        "                  so that the validation part represents the provided proportion \n",
        "                  of the original training file\n",
        "        Returns 3 dictionaries (whose keys are corpus types (train/dev/test/val))\n",
        "        - sentences\n",
        "        - rank of target word in each sentence\n",
        "        - gold labels\n",
        "\n",
        "        Example:\n",
        "        sentences['train'] = [['Le', 'code', 'comprend', 'des', 'erreurs','.'],\n",
        "                              ['Comprends', '-tu', '?']]\n",
        "         # the targets are are the 3rd and first words                     \n",
        "        tg_wrks['train'] = [2, 0]\n",
        "        tg_lemmas['train'] = ['comprendre', 'comprendre']\n",
        "        labels = ['frame1', 'frame2']\n",
        "                                \n",
        "    \"\"\"\n",
        "    # chargement de la répartition usuelle des phrases en train / dev / test\n",
        "    s = open(split_info_file)\n",
        "    lines = [ l[:-1].split('\\t') for l in s.readlines() ]\n",
        "    split_info_dic = { line[0]:line[1] for line in lines }\n",
        "\n",
        "    # les phrases de dev / train / test\n",
        "    sentences = {'dev':[], 'train':[], 'test':[]}\n",
        "    # les word rank (wrk) des mots étiquetés en frames (les \"targets\" ou \"tg\")\n",
        "    tg_wrks = {'dev':[], 'train':[], 'test':[]}\n",
        "    # les lemmes des targets\n",
        "    tg_lemmas = {'dev':[], 'train':[], 'test':[]}\n",
        "    # les sens (= des frames) étiquetés pour ces mots\n",
        "    labels = {'dev':[], 'train':[], 'test':[]}\n",
        "\n",
        "    max_sent_len = {'dev':0, 'train':0, 'test':0}\n",
        "    max_tg_wrk = {'dev':0, 'train':0, 'test':0}\n",
        "\n",
        "    stream = open(gold_data_file)\n",
        "    for line in stream.readlines():\n",
        "        if line.startswith('#'):\n",
        "            continue\n",
        "        line = line.strip()\n",
        "        (sentid, tg_wrk, frame_name, tg_lemma, tg_pos, rest) = line.split('\\t',5)\n",
        "        # on ignore pour l'instant l'annotation en rôles\n",
        "        # les phrases sont pré-segmentées en mots (séparateur = espace) \n",
        "        # => on splitte, de manière à utiliser infra le tokenizer en mode is_split_into_words=True\n",
        "        sentence = rest.split(\"\\t\")[-1].split(' ')\n",
        "        part = split_info_dic[sentid]\n",
        "        tg_wrk = int(tg_wrk)\n",
        "\n",
        "        l = len(sentence)\n",
        "        sentences[part].append(sentence)\n",
        "        labels[part].append(frame_name)\n",
        "        tg_wrks[part].append(tg_wrk)\n",
        "        tg_lemmas[part].append(tg_lemma)\n",
        "        if max_sent_len[part] < l: \n",
        "            max_sent_len[part] = l \n",
        "        if max_tg_wrk[part] < tg_wrk: \n",
        "            max_tg_wrk[part] = tg_wrk \n",
        "    print(\"Longueur max des phrases:\", max_sent_len)\n",
        "    print(\"Rang max du target (en mots):\", max_tg_wrk)\n",
        "    \n",
        "    # decoupage du train en train + validation\n",
        "    # (pour réglage du nombre d'époques)\n",
        "    if val_proportion:\n",
        "        # le split sera le même pour les 3 listes\n",
        "        for dic in [sentences, tg_wrks, labels, tg_lemmas]:\n",
        "            (dic['val'], dic['train']) = split_list(dic['train'], proportion=val_proportion)\n",
        "    return sentences, tg_wrks, tg_lemmas, labels\n",
        "\n",
        "def split_list(inlist, proportion=0.1, shuffle=False):\n",
        "     \"\"\" partitions the input list of items (of any kind) into 2 lists, \n",
        "     the first one representing @proportion of the whole \n",
        "     \n",
        "     If shuffle is not set, the partition takes one item every xxx items\n",
        "     otherwise, the split is random\"\"\"\n",
        "     n = len(inlist)\n",
        "     size1 = int(n * proportion)\n",
        "     if not(size1):\n",
        "          size1 = 1\n",
        "     print(\"SPLIT %d items into %d and %d\" % (n, n-size1, size1))\n",
        "     # if shuffle : simply shuffle and return slices\n",
        "     if shuffle:\n",
        "          # shuffle inlist (without changing the original external list\n",
        "          # use of random.sample instead of random.shuffle\n",
        "          inlist = sample(inlist, n)\n",
        "          return (inlist[:size1], inlist[size1:])\n",
        "     # otherwise, return validation set as one out of xxx items\n",
        "     else:\n",
        "          divisor = int(n / size1)\n",
        "          l1 = []\n",
        "          l2 = []\n",
        "          for (i,x) in enumerate(inlist):\n",
        "               if i % divisor or len(l1) >= size1:\n",
        "                    l2.append(x)\n",
        "               else:\n",
        "                    l1.append(x)\n",
        "          return (l1,l2)\n"
      ],
      "execution_count": null,
      "outputs": []
    },
    {
      "cell_type": "code",
      "metadata": {
        "id": "QaKnFVJ0exyL",
        "colab": {
          "base_uri": "https://localhost:8080/"
        },
        "outputId": "80e798c7-060f-4ac7-d234-a3f2d28605d7"
      },
      "source": [
        "gold_data_file = './asfalda_data_for_wsd/sequoiaftb.asfalda_1_3.gold.uniq.nofullant.txt'\n",
        "# les informations pour le split train / dev / test\n",
        "# tel qu'utilisé généralement pour ce corpus\n",
        "split_info_file = './asfalda_data_for_wsd/sequoiaftb_split_info'\n",
        "\n",
        "sentences, tg_wrks, tg_lemmas, label_strs = load_asfalda_data(gold_data_file,\n",
        "                                                              split_info_file, \n",
        "                                                              val_proportion=0.1)\n",
        "\n",
        "# récupération de tous les labels (= les frames) rencontrés\n",
        "all_labels_strs = []\n",
        "all_lemma_strs = []\n",
        "for p in sentences.keys():\n",
        "    all_labels_strs += label_strs[p]\n",
        "    all_lemma_strs += tg_lemmas[p]\n",
        "    avgl = sum([len(s) for s in sentences[p]])/len(sentences[p])\n",
        "    print(\"%s : %d sentences, average lentgh=%3.2f\" \n",
        "          %(p, len(sentences[p]), avgl))\n",
        "\n",
        "#@@ ATTENTION: ici vous codez tous les lemmes, y compris les lemmes du dev / test inconnus du train\n",
        "#   => cela donne une surestimation des performances utilisant les lemmes\n",
        "i2lemma = list(set(all_lemma_strs))\n",
        "lemma2i = {x:i for i,x in enumerate(i2lemma)}\n",
        "\n",
        "\n",
        "# id des labels (i.e. ici des frames)\n",
        "i2label = list(set(all_labels_strs))\n",
        "label2i = {x:i for i,x in enumerate(i2label)}\n",
        "# l'id du frame spécial \"Other_sense\"\n",
        "i_OTHER_SENSE = label2i['Other_sense']\n",
        "\n",
        "# séquence des ids de labels gold \n",
        "# pour chaque sous-corpus (clé = partie de corpus dev/train/test/val)\n",
        "labels = {}\n",
        "for p in label_strs.keys():\n",
        "    labels[p] = [label2i[x] for x in label_strs[p]]\n",
        "\n",
        "\n"
      ],
      "execution_count": null,
      "outputs": [
        {
          "output_type": "stream",
          "text": [
            "Longueur max des phrases: {'dev': 115, 'train': 271, 'test': 140}\n",
            "Rang max du target (en mots): {'dev': 96, 'train': 267, 'test': 115}\n",
            "SPLIT 18657 items into 16792 and 1865\n",
            "SPLIT 18657 items into 16792 and 1865\n",
            "SPLIT 18657 items into 16792 and 1865\n",
            "SPLIT 18657 items into 16792 and 1865\n",
            "dev : 2688 sentences, average lentgh=38.03\n",
            "train : 16792 sentences, average lentgh=38.99\n",
            "test : 3447 sentences, average lentgh=38.45\n",
            "val : 1865 sentences, average lentgh=38.97\n"
          ],
          "name": "stdout"
        }
      ]
    },
    {
      "cell_type": "code",
      "metadata": {
        "colab": {
          "base_uri": "https://localhost:8080/"
        },
        "id": "edb6wB9dfN2P",
        "outputId": "dd03efb8-b184-4650-bb4d-80b83b1a883a"
      },
      "source": [
        "i_OTHER_SENSE"
      ],
      "execution_count": null,
      "outputs": [
        {
          "output_type": "execute_result",
          "data": {
            "text/plain": [
              "86"
            ]
          },
          "metadata": {
            "tags": []
          },
          "execution_count": 5
        }
      ]
    },
    {
      "cell_type": "code",
      "metadata": {
        "id": "CIM0NNOQ9PHY"
      },
      "source": [],
      "execution_count": null,
      "outputs": []
    },
    {
      "cell_type": "markdown",
      "metadata": {
        "id": "E2Rgiftb-CQ5"
      },
      "source": [
        "### Baseline MFS (\"most frequent sense\")"
      ]
    },
    {
      "cell_type": "code",
      "metadata": {
        "id": "d2f7R9YD9_OH"
      },
      "source": [
        "# TODO:\n",
        "# calculer le sens le plus fréquent de chaque lemme-target\n",
        "# (le plus fréquent dans train+val)\n",
        "\n",
        "# et calculez la baseline MFS (\"most frequent sense\")\n",
        "# - sur le train+val\n",
        "# - sur le dev\n",
        "\n",
        "# TODO:\n",
        "# Etudiez les éléments de dev qui sont \"inconnus\" de train+val:\n",
        "# - les lemmes-target inconnus\n",
        "# - les frames inconnus\n",
        "# - les associations frame / lemme-target inconnus\n",
        "from collections import defaultdict\n",
        "def frequence(tg_lemmas,label_strs):\n",
        "  dict_lemmes = defaultdict(lambda: defaultdict(int))\n",
        "  dict_most_frequent = {}\n",
        "  for lemme, sens in zip(tg_lemmas,label_strs):\n",
        "      dict_lemmes[lemme][sens]+=1\n",
        "  for key, value in dict_lemmes.items():\n",
        "    max_item = max(value, key=lambda k: value[k])\n",
        "    dict_most_frequent[key] = max_item\n",
        "  return dict_lemmes, dict_most_frequent\n",
        "\n",
        "\n",
        "dict_lemmes_train, dict_most_frequent_train = frequence(tg_lemmas['train']+tg_lemmas['val'],label_strs['train']+label_strs['val'])\n",
        "dict_lemmes_val, dict_most_frequent_val = frequence(tg_lemmas['val'],label_strs['val'])\n",
        "dict_lemmes_dev, dict_most_frequent_dev = frequence(tg_lemmas['dev'],label_strs['dev'])\n"
      ],
      "execution_count": null,
      "outputs": []
    },
    {
      "cell_type": "code",
      "metadata": {
        "id": "lUM5bg-4rDI3"
      },
      "source": [
        "def baseline(dict_most_frequent, tg_lemmas,label_strs,train_or_dev = 'train+val'):\n",
        "  amount_correct = 0\n",
        "  for lemme, sens in zip(tg_lemmas,label_strs):\n",
        "    if sens == dict_most_frequent[lemme]:\n",
        "      amount_correct +=1\n",
        "  return 'Accuracy of baseline model on ' + train_or_dev + ' is:',amount_correct/len(tg_lemmas)*100\n"
      ],
      "execution_count": null,
      "outputs": []
    },
    {
      "cell_type": "code",
      "metadata": {
        "colab": {
          "base_uri": "https://localhost:8080/"
        },
        "id": "5qq0DQCJsmUd",
        "outputId": "7cb446fd-062d-4767-e9cb-8ef33f8a6852"
      },
      "source": [
        "baseline(dict_most_frequent_train, tg_lemmas['train']+tg_lemmas['val'],label_strs['train']+label_strs['val'])"
      ],
      "execution_count": null,
      "outputs": [
        {
          "output_type": "execute_result",
          "data": {
            "text/plain": [
              "('Accuracy of baseline model on train+val is:', 81.39572278501367)"
            ]
          },
          "metadata": {
            "tags": []
          },
          "execution_count": 8
        }
      ]
    },
    {
      "cell_type": "code",
      "metadata": {
        "colab": {
          "base_uri": "https://localhost:8080/"
        },
        "id": "p79BXMSq7R5N",
        "outputId": "f3489afc-a66b-4296-f984-38a014bc895c"
      },
      "source": [
        "baseline(dict_most_frequent_dev, tg_lemmas['dev'],label_strs['dev'], 'dev')"
      ],
      "execution_count": null,
      "outputs": [
        {
          "output_type": "execute_result",
          "data": {
            "text/plain": [
              "('Accuracy of baseline model on dev is:', 83.59375)"
            ]
          },
          "metadata": {
            "tags": []
          },
          "execution_count": 9
        }
      ]
    },
    {
      "cell_type": "markdown",
      "metadata": {
        "id": "m0NvftzZs5TK"
      },
      "source": [
        "Now we need to find the lemmas, targets and the pairs of target + lemma that are not in train+val sets but are present in dev set."
      ]
    },
    {
      "cell_type": "code",
      "metadata": {
        "id": "QyvuxcYjtZBd"
      },
      "source": [
        "from itertools import chain\n",
        "\n",
        "lemmes_inconnus = []\n",
        "sens_inconnus = []\n",
        "\n",
        "for lemma in tg_lemmas['dev']:\n",
        "  if lemma not in chain(tg_lemmas['train'], tg_lemmas['val']):\n",
        "    lemmes_inconnus.append(lemma)\n",
        "for sens in label_strs['dev']:\n",
        "  if sens not in chain(label_strs['train'], label_strs['val']):\n",
        "    sens_inconnus.append(sens)\n",
        "\n"
      ],
      "execution_count": null,
      "outputs": []
    },
    {
      "cell_type": "code",
      "metadata": {
        "id": "7m33grDnxGSw",
        "colab": {
          "base_uri": "https://localhost:8080/"
        },
        "outputId": "6f3185ae-299c-4fce-f4c1-a4a7c29a984a"
      },
      "source": [
        "'The number of unknown lemmas in dev is', len(set(lemmes_inconnus))"
      ],
      "execution_count": null,
      "outputs": [
        {
          "output_type": "execute_result",
          "data": {
            "text/plain": [
              "('The number of unknown lemmas in dev is', 20)"
            ]
          },
          "metadata": {
            "tags": []
          },
          "execution_count": 11
        }
      ]
    },
    {
      "cell_type": "code",
      "metadata": {
        "id": "2z3h5B_ZxsLk",
        "colab": {
          "base_uri": "https://localhost:8080/"
        },
        "outputId": "2f35758a-0095-4a68-8513-9df0588de55d"
      },
      "source": [
        "'The number of unknown sens in dev is', len(set(sens_inconnus))"
      ],
      "execution_count": null,
      "outputs": [
        {
          "output_type": "execute_result",
          "data": {
            "text/plain": [
              "('The number of unknown sens in dev is', 0)"
            ]
          },
          "metadata": {
            "tags": []
          },
          "execution_count": 12
        }
      ]
    },
    {
      "cell_type": "code",
      "metadata": {
        "id": "kLnlSS6tyZi2"
      },
      "source": [
        "unknown_associations = []\n",
        "for lemma in dict_lemmes_dev.keys():\n",
        "  if lemma in dict_lemmes_train:\n",
        "    associations_possibles_train = dict_lemmes_train[lemma].keys()\n",
        "    associations_possibles_val = dict_lemmes_dev[lemma].keys()\n",
        "    for association_val in associations_possibles_val:\n",
        "      if association_val not in associations_possibles_train:\n",
        "         unknown_associations.append((lemma,association_val))\n",
        "\n",
        "\n"
      ],
      "execution_count": null,
      "outputs": []
    },
    {
      "cell_type": "code",
      "metadata": {
        "id": "JbxiSKCp0X0z",
        "colab": {
          "base_uri": "https://localhost:8080/"
        },
        "outputId": "032e8cb9-7013-45ea-c6b5-9c347268e153"
      },
      "source": [
        "'The number of unknown associations in dev is', len(set(unknown_associations))"
      ],
      "execution_count": null,
      "outputs": [
        {
          "output_type": "execute_result",
          "data": {
            "text/plain": [
              "('The number of unknown associations in dev is', 22)"
            ]
          },
          "metadata": {
            "tags": []
          },
          "execution_count": 14
        }
      ]
    },
    {
      "cell_type": "code",
      "metadata": {
        "id": "dZDeGCyInz7w"
      },
      "source": [
        "dict_most_frequent_train"
      ],
      "execution_count": null,
      "outputs": []
    },
    {
      "cell_type": "markdown",
      "metadata": {
        "id": "XPbOlFK9nLoU"
      },
      "source": [
        "## Modèle et tokenization de type *BERT\n",
        "\n",
        "On va utiliser un modèle pré-entraîné de type *BERT, en passant par le module \"transformers\" d'huggingface."
      ]
    },
    {
      "cell_type": "code",
      "metadata": {
        "id": "G4DfehySexyR",
        "colab": {
          "base_uri": "https://localhost:8080/"
        },
        "outputId": "75f28db4-c81c-4a21-cc61-26454db8915a"
      },
      "source": [
        "try:\n",
        "  import transformers\n",
        "except ImportError:\n",
        "  !pip install transformers\n",
        "  \n",
        "# les modules permettant de charger un modèle (resp. un tokenizer / une config)\n",
        "# et de repérer le type d'instance automatiquement d'après le nom du modèle\n",
        "from transformers import AutoModel, AutoTokenizer, AutoConfig"
      ],
      "execution_count": null,
      "outputs": [
        {
          "output_type": "stream",
          "text": [
            "Collecting transformers\n",
            "\u001b[?25l  Downloading https://files.pythonhosted.org/packages/cd/40/866cbfac4601e0f74c7303d533a9c5d4a53858bd402e08e3e294dd271f25/transformers-4.2.1-py3-none-any.whl (1.8MB)\n",
            "\u001b[K     |████████████████████████████████| 1.8MB 11.9MB/s \n",
            "\u001b[?25hRequirement already satisfied: importlib-metadata; python_version < \"3.8\" in /usr/local/lib/python3.6/dist-packages (from transformers) (3.3.0)\n",
            "Collecting tokenizers==0.9.4\n",
            "\u001b[?25l  Downloading https://files.pythonhosted.org/packages/0f/1c/e789a8b12e28be5bc1ce2156cf87cb522b379be9cadc7ad8091a4cc107c4/tokenizers-0.9.4-cp36-cp36m-manylinux2010_x86_64.whl (2.9MB)\n",
            "\u001b[K     |████████████████████████████████| 2.9MB 40.4MB/s \n",
            "\u001b[?25hRequirement already satisfied: numpy in /usr/local/lib/python3.6/dist-packages (from transformers) (1.19.5)\n",
            "Requirement already satisfied: tqdm>=4.27 in /usr/local/lib/python3.6/dist-packages (from transformers) (4.41.1)\n",
            "Requirement already satisfied: packaging in /usr/local/lib/python3.6/dist-packages (from transformers) (20.8)\n",
            "Collecting sacremoses\n",
            "\u001b[?25l  Downloading https://files.pythonhosted.org/packages/7d/34/09d19aff26edcc8eb2a01bed8e98f13a1537005d31e95233fd48216eed10/sacremoses-0.0.43.tar.gz (883kB)\n",
            "\u001b[K     |████████████████████████████████| 890kB 39.8MB/s \n",
            "\u001b[?25hRequirement already satisfied: filelock in /usr/local/lib/python3.6/dist-packages (from transformers) (3.0.12)\n",
            "Requirement already satisfied: requests in /usr/local/lib/python3.6/dist-packages (from transformers) (2.23.0)\n",
            "Requirement already satisfied: dataclasses; python_version < \"3.7\" in /usr/local/lib/python3.6/dist-packages (from transformers) (0.8)\n",
            "Requirement already satisfied: regex!=2019.12.17 in /usr/local/lib/python3.6/dist-packages (from transformers) (2019.12.20)\n",
            "Requirement already satisfied: zipp>=0.5 in /usr/local/lib/python3.6/dist-packages (from importlib-metadata; python_version < \"3.8\"->transformers) (3.4.0)\n",
            "Requirement already satisfied: typing-extensions>=3.6.4; python_version < \"3.8\" in /usr/local/lib/python3.6/dist-packages (from importlib-metadata; python_version < \"3.8\"->transformers) (3.7.4.3)\n",
            "Requirement already satisfied: pyparsing>=2.0.2 in /usr/local/lib/python3.6/dist-packages (from packaging->transformers) (2.4.7)\n",
            "Requirement already satisfied: six in /usr/local/lib/python3.6/dist-packages (from sacremoses->transformers) (1.15.0)\n",
            "Requirement already satisfied: click in /usr/local/lib/python3.6/dist-packages (from sacremoses->transformers) (7.1.2)\n",
            "Requirement already satisfied: joblib in /usr/local/lib/python3.6/dist-packages (from sacremoses->transformers) (1.0.0)\n",
            "Requirement already satisfied: chardet<4,>=3.0.2 in /usr/local/lib/python3.6/dist-packages (from requests->transformers) (3.0.4)\n",
            "Requirement already satisfied: certifi>=2017.4.17 in /usr/local/lib/python3.6/dist-packages (from requests->transformers) (2020.12.5)\n",
            "Requirement already satisfied: idna<3,>=2.5 in /usr/local/lib/python3.6/dist-packages (from requests->transformers) (2.10)\n",
            "Requirement already satisfied: urllib3!=1.25.0,!=1.25.1,<1.26,>=1.21.1 in /usr/local/lib/python3.6/dist-packages (from requests->transformers) (1.24.3)\n",
            "Building wheels for collected packages: sacremoses\n",
            "  Building wheel for sacremoses (setup.py) ... \u001b[?25l\u001b[?25hdone\n",
            "  Created wheel for sacremoses: filename=sacremoses-0.0.43-cp36-none-any.whl size=893261 sha256=ab5ccea4f6fff3cec4b083f9cf7de5a9af7cbd36004dcbb0891dad9f513827f4\n",
            "  Stored in directory: /root/.cache/pip/wheels/29/3c/fd/7ce5c3f0666dab31a50123635e6fb5e19ceb42ce38d4e58f45\n",
            "Successfully built sacremoses\n",
            "Installing collected packages: tokenizers, sacremoses, transformers\n",
            "Successfully installed sacremoses-0.0.43 tokenizers-0.9.4 transformers-4.2.1\n"
          ],
          "name": "stdout"
        }
      ]
    },
    {
      "cell_type": "code",
      "metadata": {
        "id": "JJiKhfxhexyV",
        "colab": {
          "base_uri": "https://localhost:8080/",
          "height": 166,
          "referenced_widgets": [
            "a5611e1877c246e88f8c9ba7f73fcd14",
            "2a63baf0cdab419d985d39d07e0b376c",
            "b43699041dea4a7bb0f97ccf078e5c8b",
            "bc909bc1b05b4067a947a03dd2708a17",
            "6bebeb3da1ff494196ff8b3c5beb3cff",
            "a15458eba4fe4a3b93dcc3f9494990e3",
            "fd9fe2c7ea1c4d3b98de684243201383",
            "21b7360121934bc392a719c6eedef583",
            "cb2114aab6ab480cb6023fa0e5578c28",
            "ea2cbc25c2504383bbe9ecd164448d84",
            "67034dd7a099431d92976a1c2d237e31",
            "ff41d7c375274c64931a86c6d8c7a0bb",
            "70315c6a722e4176a2af4b631c755d36",
            "adb58c36931a412e802c295694410b9c",
            "1ffee7d44a3347adbc88c47208679bd6",
            "8fd286d4947644c5b7f1cc9cb8f5b179",
            "719b612ae5ab417d81876ae8744cf85f",
            "39f9c710ebd84b6fa81c4b9205c18a15",
            "23f0f80a2faa4228a1897b5b92562fff",
            "200efeb1a36f47b888af30721f1e8a97",
            "062aa7e54cce40c99ca2e1043f134b90",
            "ced61c53666f45f48fe301f2af4e5e35",
            "496703edea874c6fb8a22fd32e456081",
            "0a05f98a9e1a48729e833652dc413be5"
          ]
        },
        "outputId": "105f47fb-8666-4bb8-f59b-5e1538d231ae"
      },
      "source": [
        "# On choisit de travailler avec le modèle FlauBERT\n",
        "# cf. liste des modèles dispos : https://huggingface.co/transformers/pretrained_models.html\n",
        "\n",
        "# on charge ici le tokenizer Flaubert\n",
        "# et la config du modèle\n",
        "flaubert_tokenizer = AutoTokenizer.from_pretrained(\"flaubert/flaubert_base_cased\")\n",
        "flaubert_config = AutoConfig.from_pretrained(\"flaubert/flaubert_base_cased\")"
      ],
      "execution_count": null,
      "outputs": [
        {
          "output_type": "display_data",
          "data": {
            "application/vnd.jupyter.widget-view+json": {
              "model_id": "a5611e1877c246e88f8c9ba7f73fcd14",
              "version_minor": 0,
              "version_major": 2
            },
            "text/plain": [
              "HBox(children=(FloatProgress(value=0.0, description='Downloading', max=1496.0, style=ProgressStyle(description…"
            ]
          },
          "metadata": {
            "tags": []
          }
        },
        {
          "output_type": "stream",
          "text": [
            "\n"
          ],
          "name": "stdout"
        },
        {
          "output_type": "display_data",
          "data": {
            "application/vnd.jupyter.widget-view+json": {
              "model_id": "cb2114aab6ab480cb6023fa0e5578c28",
              "version_minor": 0,
              "version_major": 2
            },
            "text/plain": [
              "HBox(children=(FloatProgress(value=0.0, description='Downloading', max=1561415.0, style=ProgressStyle(descript…"
            ]
          },
          "metadata": {
            "tags": []
          }
        },
        {
          "output_type": "stream",
          "text": [
            "\n"
          ],
          "name": "stdout"
        },
        {
          "output_type": "display_data",
          "data": {
            "application/vnd.jupyter.widget-view+json": {
              "model_id": "719b612ae5ab417d81876ae8744cf85f",
              "version_minor": 0,
              "version_major": 2
            },
            "text/plain": [
              "HBox(children=(FloatProgress(value=0.0, description='Downloading', max=895731.0, style=ProgressStyle(descripti…"
            ]
          },
          "metadata": {
            "tags": []
          }
        },
        {
          "output_type": "stream",
          "text": [
            "\n"
          ],
          "name": "stdout"
        }
      ]
    },
    {
      "cell_type": "markdown",
      "metadata": {
        "id": "rMmtutNBexyQ"
      },
      "source": [
        "### Encodage des données (correspondance entre rang de mot et rang de token \n",
        "\n",
        "\n",
        "\n",
        "\n",
        "Pour pouvoir utiliser un modèle *BERT pré-entraîné, il faut\n",
        "- utiliser la même tokenisation en tokens (potentiellement des sous-mots) que celle utilisée à l'entraînement du modèle\n",
        "- convertir les séquences de tokens en séquences d'ids de tokens \n",
        "- et maintenir un lien entre les rangs de mot dans la phrase (dont le rang du target) et les rangs de tokens"
      ]
    },
    {
      "cell_type": "code",
      "metadata": {
        "id": "GuLEbwS_tVtZ",
        "colab": {
          "base_uri": "https://localhost:8080/"
        },
        "outputId": "5c89f1fb-2f48-4674-f6c6-e7be71cee1c1"
      },
      "source": [
        "from nltk.tokenize import WordPunctTokenizer\n",
        "class WSDEncoder:\n",
        "    def __init__(self, tokenizer, config):\n",
        "        self.tokenizer = tokenizer\n",
        "        self.config = config # pour récupérer les indices des tokens spéciaux\n",
        "    \n",
        "    def new_ranks(self, sentences, tg_works):\n",
        "\n",
        "      tg_trks = []\n",
        "      phrases = []\n",
        "      \n",
        "\n",
        "      for sent, rank in zip(sentences, tg_works):\n",
        "        has_seen = False\n",
        "       \n",
        "        word_gold = sent[rank]\n",
        "        phrase = []\n",
        "        for index, word in enumerate(sent):\n",
        "          if word == word_gold and has_seen == False:\n",
        "            tg_trks.append(len(phrase)+1)#+1 Because of the eventual 'beginning of sentence' token\n",
        "            has_seen = True\n",
        "          phrase.extend(flaubert_tokenizer.tokenize(word))\n",
        "        phrases.append(phrase)\n",
        "      \n",
        "      return phrases, tg_trks\n",
        " \n",
        "    \n",
        "    def encode(self, sentences, tg_wrks, max_length=350, verbose=False, is_split_into_words=True):\n",
        "      \"\"\" \n",
        "      Input: \n",
        "        - sentences : list of sentences\n",
        "           -- if is_split_into_words:\n",
        "              sentences are already split into words \n",
        "              (hence sentences = list of word strings [[w1, w2, w3], [w1, w2]...])\n",
        "           -- otherwise, sentences are to split on spaces to get words\n",
        "\n",
        "        - tg_wrks : list of the ranks of target words\n",
        "          (one rank per sentence, starting at 0 in a sentence)\n",
        "        - max_length : maximum length in number of tokens\n",
        "\n",
        "      Returns:\n",
        "        - tid_seqs : the sentences padded/truncated so that each contains max_length token ids\n",
        "        - first_trk_of_targets : for each sentence, \n",
        "                                 the rank in corresponding tid_seq\n",
        "                                 of the first token of the target word\n",
        "      Example\n",
        "      sentences = ['Conséquemment , nous comprendrions .']\n",
        "      tg_wrks = [3]\n",
        "\n",
        "      if the sentence is tokenized into \n",
        "        '<s>', 'Con', 'séqu', 'emment</w>', ',</w>', 'nous</w>', 'compr', 'end', 'rions</w>', '.</w>' ....\n",
        "      the first token rank of the target \"comprendrions\" is 6 ('compr')\n",
        "\n",
        "      \"\"\"\n",
        "      if is_split_into_words == False:\n",
        "        sentences = [sentence.split() for sentence in sentences] #Splitting sentences on spaces\n",
        "      \n",
        "     \n",
        "\n",
        "      phrases, first_trk_of_targets = self.new_ranks(sentences, tg_wrks)\n",
        "      \n",
        "      \n",
        "      tokenized = []\n",
        "   \n",
        "      for phrase in phrases:\n",
        "         tokenized.append(flaubert_tokenizer.encode(phrase,add_special_tokens = True,truncation = True, max_length = max_length, padding = 'max_length', pad_to_max_length = True))\n",
        "     \n",
        "      #Encoding lemmas\n",
        "\n",
        "      \n",
        "      # TODO HERE : encoding method\n",
        "\n",
        "      # Indications:\n",
        "      # 1. apply flaubert tokenization word per word, and build\n",
        "      #    tid_seqs first without padding / truncation nor special tokens,\n",
        "      #    and keep track of token rank of first token of target word\n",
        "      # 2. then truncate and pad, and add special symbols\n",
        "      # (write several methods for easier reading)\n",
        "      \n",
        "      return tokenized, first_trk_of_targets\n",
        "\n",
        "encoder = WSDEncoder(flaubert_tokenizer, flaubert_config)\n",
        "\n",
        "# test encoder\n",
        "test_sents = [\"Conséquemment leurs codes comprendraient des erreurs .\",\n",
        "            \"J' essaie de comprendre les transformers .\",  \n",
        "            \"Il n' a pas bien compris le code !\"]\n",
        "# les mots target sont les occurrences de du verbe \"comprendre\"\n",
        "test_tg_wrks = [3, 3, 5] # En réalité pour la première phrase comprendraient se situe au troisième\n",
        "\n",
        "# TODO: décommenter pour tester votre méthode encode\n",
        "\n",
        "# 1. Not add padding and not add special tokens\n",
        "\n",
        "print(\"Not add padding and not add special tokens : \")\n",
        "tid_seqs, first_trk_of_targets = encoder.encode(test_sents, test_tg_wrks, max_length=100,is_split_into_words=False)\n",
        "#print(len(tid_seqs),\" \",len(first_trk_of_targets))\n",
        "for tid_seq, ft in zip(tid_seqs, first_trk_of_targets):\n",
        "    print(\"Len = %d target token rank = %d tid_seq = %s\" % (len(tid_seq), ft, str(tid_seq))) "
      ],
      "execution_count": null,
      "outputs": [
        {
          "output_type": "stream",
          "text": [
            "Not add padding and not add special tokens : \n",
            "Len = 100 target token rank = 6 tid_seq = [0, 1198, 17358, 13299, 121, 5677, 18719, 16724, 23, 3842, 16, 1, 2, 2, 2, 2, 2, 2, 2, 2, 2, 2, 2, 2, 2, 2, 2, 2, 2, 2, 2, 2, 2, 2, 2, 2, 2, 2, 2, 2, 2, 2, 2, 2, 2, 2, 2, 2, 2, 2, 2, 2, 2, 2, 2, 2, 2, 2, 2, 2, 2, 2, 2, 2, 2, 2, 2, 2, 2, 2, 2, 2, 2, 2, 2, 2, 2, 2, 2, 2, 2, 2, 2, 2, 2, 2, 2, 2, 2, 2, 2, 2, 2, 2, 2, 2, 2, 2, 2, 2]\n",
            "Len = 100 target token rank = 4 tid_seq = [0, 158, 5213, 15, 965, 22, 14659, 896, 16, 1, 2, 2, 2, 2, 2, 2, 2, 2, 2, 2, 2, 2, 2, 2, 2, 2, 2, 2, 2, 2, 2, 2, 2, 2, 2, 2, 2, 2, 2, 2, 2, 2, 2, 2, 2, 2, 2, 2, 2, 2, 2, 2, 2, 2, 2, 2, 2, 2, 2, 2, 2, 2, 2, 2, 2, 2, 2, 2, 2, 2, 2, 2, 2, 2, 2, 2, 2, 2, 2, 2, 2, 2, 2, 2, 2, 2, 2, 2, 2, 2, 2, 2, 2, 2, 2, 2, 2, 2, 2, 2]\n",
            "Len = 100 target token rank = 6 tid_seq = [0, 59, 51, 34, 42, 83, 681, 20, 1138, 82, 1, 2, 2, 2, 2, 2, 2, 2, 2, 2, 2, 2, 2, 2, 2, 2, 2, 2, 2, 2, 2, 2, 2, 2, 2, 2, 2, 2, 2, 2, 2, 2, 2, 2, 2, 2, 2, 2, 2, 2, 2, 2, 2, 2, 2, 2, 2, 2, 2, 2, 2, 2, 2, 2, 2, 2, 2, 2, 2, 2, 2, 2, 2, 2, 2, 2, 2, 2, 2, 2, 2, 2, 2, 2, 2, 2, 2, 2, 2, 2, 2, 2, 2, 2, 2, 2, 2, 2, 2, 2]\n"
          ],
          "name": "stdout"
        }
      ]
    },
    {
      "cell_type": "markdown",
      "metadata": {
        "id": "4ySTnpTLexyi"
      },
      "source": [
        "#### Test encodage"
      ]
    },
    {
      "cell_type": "code",
      "metadata": {
        "colab": {
          "base_uri": "https://localhost:8080/"
        },
        "id": "-qyWWzPl91PB",
        "outputId": "c2e6a87c-c419-43b1-b558-f72b6192af58"
      },
      "source": [
        "encoder = WSDEncoder(flaubert_tokenizer, flaubert_config)\n",
        "\n",
        "# test encoder\n",
        "\n",
        "#@@ erreur dans le test\n",
        "#test_sents = [\"Conséquemment\", \"leurs\", \"codes\", \"comprendraient\", \"des\", \"erreurs\", \".\"]\n",
        "test_sents = [[\"Conséquemment\", \"leurs\", \"codes\", \"comprendraient\", \"des\", \"erreurs\", \".\"]]\n",
        "                    \n",
        "# les mots target sont les occurrences de du verbe \"comprendre\"\n",
        "#test_tg_wrks = [2]\n",
        "test_tg_wrks = [3]\n",
        "\n",
        "# TODO: décommenter pour tester votre méthode encode\n",
        "tid_seqs, first_trk_of_targets = encoder.encode(test_sents, test_tg_wrks, max_length=20, verbose=True, is_split_into_words = True)\n",
        "\n",
        "print('trgs',first_trk_of_targets)\n",
        "\n",
        "for tid_seq, ft in zip(tid_seqs, first_trk_of_targets):\n",
        "  #@@ plus de traces\n",
        "  print(flaubert_tokenizer.convert_ids_to_tokens(tid_seq))\n",
        "  print(\"Len = %d target token rank = %d tid_seq = %s\" % (len(tid_seq), ft, str(tid_seq)))\n",
        "\n"
      ],
      "execution_count": null,
      "outputs": [
        {
          "output_type": "stream",
          "text": [
            "trgs [6]\n",
            "['<s>', 'Con', 'séqu', 'emment</w>', 'leurs</w>', 'codes</w>', 'compr', 'endraient</w>', 'des</w>', 'erreurs</w>', '.</w>', '</s>', '<pad>', '<pad>', '<pad>', '<pad>', '<pad>', '<pad>', '<pad>', '<pad>']\n",
            "Len = 20 target token rank = 6 tid_seq = [0, 1198, 17358, 13299, 121, 5677, 18719, 16724, 23, 3842, 16, 1, 2, 2, 2, 2, 2, 2, 2, 2]\n"
          ],
          "name": "stdout"
        }
      ]
    },
    {
      "cell_type": "code",
      "metadata": {
        "colab": {
          "base_uri": "https://localhost:8080/",
          "height": 37
        },
        "id": "n2ER6-SXhEj2",
        "outputId": "6f5f3347-e129-41b6-afde-8fba507adbd6"
      },
      "source": [
        "encoder.tokenizer.convert_ids_to_tokens(6000)"
      ],
      "execution_count": null,
      "outputs": [
        {
          "output_type": "execute_result",
          "data": {
            "application/vnd.google.colaboratory.intrinsic+json": {
              "type": "string"
            },
            "text/plain": [
              "'autorisé</w>'"
            ]
          },
          "metadata": {
            "tags": []
          },
          "execution_count": 20
        }
      ]
    },
    {
      "cell_type": "markdown",
      "metadata": {
        "id": "YHApJ8mgexyn"
      },
      "source": [
        "### Classe WSDData: encodage complet des données asfalda"
      ]
    },
    {
      "cell_type": "code",
      "metadata": {
        "id": "qMxpzaBhexyo"
      },
      "source": [
        "import random\n",
        "class WSDData:\n",
        "    def __init__(self, corpus_type, sentences, tg_wrks, tg_lemmas, labels, encoder, max_length=350):\n",
        "        \"\"\"\n",
        "        Inputs:\n",
        "        - corpus type string (train/dev/test/val)\n",
        "        - list of sentences (each sentence = list of word strings)\n",
        "        - list of target word ranks : one per sentence\n",
        "        - list of gold label id\n",
        "        - encoder = instance of WSDEncoder\n",
        "\n",
        "        - max_length = size of encoded sequences, in nb of bert tokens \n",
        "                      (padded / truncated via encoder.encode)\n",
        "    \n",
        "        Encodes all the data using the relevant identifiers\n",
        "        \"\"\"\n",
        "        \n",
        "        self.corpus_type = corpus_type # train / dev / test / val\n",
        "        self.size = len(sentences)\n",
        "        self.encoder = encoder\n",
        "\n",
        "        self.labels = labels       # gold label ids\n",
        "        self.sentences = sentences # list of list of word strings\n",
        "        self.tg_lemmas = tg_lemmas #list of target lemmas\n",
        "        \n",
        "        tid_seqs, first_trk_of_targets = encoder.encode(sentences, tg_wrks, max_length)\n",
        "        self.tg_lemma_indexes = [lemma2i[lemma]for lemma in self.tg_lemmas]\n",
        "\n",
        "        self.tid_seqs = tid_seqs  # sequences of token ids\n",
        "        self.first_trk_of_targets  = first_trk_of_targets   # target token ranks\n",
        "        \n",
        "        \n",
        "\n",
        "    def shuffle(self):\n",
        "      \"\"\"\n",
        "      Rearranges all the data in a new random order\n",
        "      (sentences, tg_lemmas, tg_trks, tid_seqs, labels)\n",
        "\n",
        "      NB: ** original order is lost **\n",
        "      \"\"\"\n",
        "      z = list(zip(self.labels, self.sentences, self.tg_lemma_indexes, self.tid_seqs, self.first_trk_of_targets))\n",
        "      random.shuffle(z)\n",
        "      labels, sentences, tg_lemma_indexes, tid_seqs,first_trk_of_targets = zip(*z)\n",
        "      \n",
        "\n",
        "      \n",
        "      return labels, sentences, tg_lemma_indexes, tid_seqs,first_trk_of_targets\n",
        "\n",
        " \n",
        "\n",
        "    # production de batches de données\n",
        "    def make_batches(self, batch_size, shuffle_data=False):\n",
        "        \"\"\"\n",
        "        Returns an iterator over 3 torch tensors \n",
        "        - batch of token id sequences\n",
        "        - corresponding batch of target token ranks\n",
        "        - corresponding batch of labels for these targets\n",
        "        \"\"\"\n",
        "        # TODO\n",
        "        # (use \"yield\" function to return iterator\n",
        "        bstart = 0\n",
        "        if shuffle_data:\n",
        "          self.labels, self.sentences, self.tg_lemmas, self.tid_seqs, self.first_trk_of_targets = self.shuffle()\n",
        "        N = len(self.labels)\n",
        "        while bstart < len(self.labels):\n",
        "          bend = min(bstart+batch_size,N)\n",
        "          b_labels, b_tid_seqs, b_tg_trks, b_lemmas = self.labels[bstart:bend] , self.tid_seqs[bstart:bend] , self.first_trk_of_targets[bstart:bend], self.tg_lemma_indexes[bstart:bend] \n",
        "          assert(len(b_labels)==len(b_tid_seqs))\n",
        "          yield (b_tid_seqs, b_tg_trks, b_labels, b_lemmas)#lemmas\n",
        "        \n",
        "          bstart += batch_size\n",
        "\n",
        "       \n",
        "        \n",
        "\n",
        "\n",
        "\n",
        "\n",
        "\n"
      ],
      "execution_count": null,
      "outputs": []
    },
    {
      "cell_type": "code",
      "metadata": {
        "colab": {
          "base_uri": "https://localhost:8080/"
        },
        "id": "z6sSDJMarsXA",
        "outputId": "b94f11ec-520d-4d12-9419-2b7831f34610"
      },
      "source": [
        "sentences.keys()"
      ],
      "execution_count": null,
      "outputs": [
        {
          "output_type": "execute_result",
          "data": {
            "text/plain": [
              "dict_keys(['dev', 'train', 'test', 'val'])"
            ]
          },
          "metadata": {
            "tags": []
          },
          "execution_count": 22
        }
      ]
    },
    {
      "cell_type": "code",
      "metadata": {
        "colab": {
          "base_uri": "https://localhost:8080/"
        },
        "id": "m6D81AP4ye10",
        "outputId": "fcb341d3-576c-4c61-9a22-25914f804985"
      },
      "source": [
        "MAX_LENGTH = 300\n",
        "wsd_data = {}\n",
        "# key = part of the split corpus (train/test/dev/val)\n",
        "for p in sentences.keys():\n",
        "    print(\"Encodage de la partie %s ...\" % p)\n",
        "    wsd_data[p] = WSDData(p, sentences[p], tg_wrks[p], tg_lemmas[p], labels[p], \n",
        "                          encoder, max_length=MAX_LENGTH)\n",
        "    # vérif que l'encodage donne bien la bonne taille\n",
        "    for i, s in enumerate(wsd_data[p].tid_seqs):\n",
        "        if len(s) != MAX_LENGTH:\n",
        "            print(\"Size bug:\", i, s)"
      ],
      "execution_count": null,
      "outputs": [
        {
          "output_type": "stream",
          "text": [
            "Encodage de la partie dev ...\n",
            "Encodage de la partie train ...\n",
            "Encodage de la partie test ...\n",
            "Encodage de la partie val ...\n"
          ],
          "name": "stdout"
        }
      ]
    },
    {
      "cell_type": "markdown",
      "metadata": {
        "id": "aIw1BE1wexys"
      },
      "source": [
        "## Classe WSDClassifier : le réseau de neurones pour la WSD\n",
        "\n",
        "Architecture de base = \n",
        "- le modèle *BERT (ici FlauBERT)\n",
        "- puis une couche linéaire + softmax"
      ]
    },
    {
      "cell_type": "markdown",
      "metadata": {
        "id": "DQ-w08okgaXv"
      },
      "source": [
        "### Le réseau : architecture, propagation avant, évaluation"
      ]
    },
    {
      "cell_type": "code",
      "metadata": {
        "id": "KYAvfY83z0dF"
      },
      "source": [
        "class MLP(nn.Module):\n",
        "  def __init__(self,input_size,output_size,hidden_size):\n",
        "    super(MLP, self).__init__()\n",
        "    self.encoder = nn.Linear(input_size,hidden_size)\n",
        "    self.decoder = nn.Linear(hidden_size,output_size)\n",
        "    self.activation = nn.Tanh()\n",
        "  def forward(self,xinput):\n",
        "    h = self.activation(self.encoder(xinput))\n",
        "    return self.decoder(h)\n",
        "\n",
        "\n"
      ],
      "execution_count": null,
      "outputs": []
    },
    {
      "cell_type": "code",
      "metadata": {
        "id": "gFQEpfkRexyy"
      },
      "source": [
        "\n",
        "class WSDClassifier(nn.Module):\n",
        "\n",
        "    def __init__(self, num_labels, device='cpu', bert_model_name=\"flaubert/flaubert_base_cased\", freeze_bert = True, use_mlp = False, hidden_size = 100,nbr_lemmas = len(lemma2i), lemma_embedding_size = 518, add_lemmas = False):\n",
        "        super(WSDClassifier, self).__init__()\n",
        "\n",
        "        self.device = device\n",
        "        self.use_mlp = use_mlp\n",
        "        self.add_lemmas = add_lemmas\n",
        "                \n",
        "        # le début du réseau est un réseau de type *BERT\n",
        "        # le .to(device) déclenche la copie vers un éventuel GPU\n",
        "        self.bert_layer = AutoModel.from_pretrained(bert_model_name,\n",
        "                                                   ).to(self.device)\n",
        "        # on récupère la config pour avoir la taille des embeddings bert\n",
        "        self.bert_config = AutoConfig.from_pretrained(bert_model_name)\n",
        "        \n",
        "        if self.add_lemmas:\n",
        "          #Adding lemma information\n",
        "          self.hidden_size_bert = int(self.bert_config.hidden_size)+int(lemma_embedding_size)\n",
        "          print('lemmahidden', self.hidden_size_bert)\n",
        "        else:\n",
        "          self.hidden_size_bert = int(self.bert_config.hidden_size)\n",
        "        if add_lemmas:\n",
        "          self.lemma_embedding = nn.Embedding(nbr_lemmas, lemma_embedding_size).to(self.device)\n",
        "        \n",
        "        #print('hidden',hidden_size)\n",
        "        # TODO HERE : la suite\n",
        "        # TODO: implement option freeze_bert\n",
        "        if freeze_bert:\n",
        "          for param in self.bert_layer.parameters(): #Freezing the Bert parameters\n",
        "            param.requires_grad = False\n",
        "        if self.use_mlp:\n",
        "          self.mlp = MLP(self.hidden_size_bert,num_labels,100).to(self.device)\n",
        "\n",
        "        else:\n",
        "          self.linear = torch.nn.Linear(self.hidden_size_bert,num_labels).to(self.device)\n",
        "        self.softmax = torch.nn.LogSoftmax(dim = 1).to(self.device)\n",
        "        \n",
        "        \n",
        "\n",
        "    def forward(self, b_tid_seq, b_tg_trk, b_tg_lemma_indexes = None):\n",
        "        \"\"\"\n",
        "        Inputs: (all are tensors, on the relevant device)\n",
        "            - a batch of sentences = a batch of token id sequences \n",
        "              (as output in 'input_ids' member of tokenizer output)\n",
        "            - a batch of target token rank = for each of the sentences, \n",
        "              the rank of first token of the target word to disambiguate\n",
        "\n",
        "        Output: log_softmax scores for the whole batch (batch_size x num_labels)\n",
        "        \"\"\"\n",
        "        \"\"\"\n",
        "        self.main_part = torch.nn.Sequential(\n",
        "            self.bert_layer,\n",
        "            self.linear,\n",
        "            self.softmax)\n",
        "        \"\"\"\n",
        "        \n",
        "     \n",
        "    \n",
        "        embeddings_bert = self.bert_layer(b_tid_seq, return_dict = True).last_hidden_state.to(self.device)\n",
        "        \n",
        "       \n",
        "      \n",
        "     \n",
        "      \n",
        "        \n",
        "        embeddings_bert_tgt = embeddings_bert[torch.arange(embeddings_bert.size(0)), b_tg_trk].to(self.device) #last hidden state, ranks. We extract the \n",
        "        #necessary contextualised embeddings from the last layer\n",
        "        \n",
        "        if self.add_lemmas: #add lemma information\n",
        "          lemma_embeddings = self.lemma_embedding(b_tg_lemma_indexes).to(self.device)\n",
        "          embeddings_bert_tgt = torch.cat((embeddings_bert_tgt,lemma_embeddings), dim = 1).to(self.device)#If we use lemmas, we concat bert embeddings and information about lemmas\n",
        "        \n",
        "\n",
        "        \n",
        "        if self.use_mlp:\n",
        "          linear_tgt = self.mlp(embeddings_bert_tgt).to(self.device)\n",
        "        else:\n",
        "          linear_tgt = self.linear(embeddings_bert_tgt).to(self.device)\n",
        "        \n",
        "        soft_tgt = self.softmax(linear_tgt).to(self.device)\n",
        "       \n",
        "        \n",
        "        return soft_tgt\n",
        "        #idx = torch.tensor([1, 2])\n",
        "        #x[torch.arange(x.size(0)), idx]\n",
        "     \n",
        "        \n",
        "        # TODO HERE\n",
        "        #  - récuperer les embeddings *bert de tous les tokens des phrases du batch \n",
        "        #    [ batch_size * seq_len * bert_emb_size ]\n",
        "        #\n",
        "        #  - isoler l'embedding du token target pour toutes les phrases du batch\n",
        "        #    [ batch_size * bert_emb_size ]\n",
        "\n",
        "        #\n",
        "        #    Indications pour le faire élégamment et efficacement:\n",
        "        #    https://discuss.pytorch.org/t/how-to-select-specific-vector-in-3d-tensor-beautifully/37724\n",
        "        #\n",
        "        #  - et suite pour fine tuning\n",
        "            \n",
        "    def run_on_dataset(self, wsd_data, optimizer, batch_size=32, validation_use = False):\n",
        "        \"\"\"\n",
        "        Run classifier on wsd_data and compute accuracy\n",
        "        Inputs = \n",
        "         - wsd_data (WSDDataset instance)\n",
        "         - batch_size\n",
        "        Returns:\n",
        "         - list of predicted label ids\n",
        "        \"\"\"\n",
        "        pred_labels = []\n",
        "        val_losses = []\n",
        "        batch_acc = []\n",
        "        \n",
        "        loss_function = nn.NLLLoss()\n",
        "\n",
        "\n",
        "        \n",
        "        # toggle evaluation mode of the model (IMPORTANT)\n",
        "        self.eval()\n",
        "        for b_tid_seqs, b_tg_trks, b_labels, b_lemma_idx in wsd_data.make_batches(32, shuffle_data=False):\n",
        "          with torch.no_grad():\n",
        "            b_tid_seqs = torch.tensor(b_tid_seqs, device=self.device).to(self.device)\n",
        "            \n",
        "            b_tg_trks = torch.tensor(b_tg_trks, device=self.device).to(self.device)\n",
        "            b_labels = torch.tensor(b_labels, device=self.device).to(self.device)\n",
        "            b_lemma_idx = torch.tensor(b_lemma_idx, device=self.device).to(self.device)\n",
        "            log_probs = classifier(b_tid_seqs, b_tg_trks, b_lemma_idx).to(self.device)\n",
        "        \n",
        "            log_probs = self(b_tid_seqs, b_tg_trks,b_lemma_idx)\n",
        "            b_pred_labels = torch.argmax(log_probs, dim=1).to(self.device)\n",
        "            \n",
        "            pred_labels.extend(b_pred_labels)\n",
        "            \n",
        "            if validation_use:\n",
        "            \n",
        "              loss = loss_function(log_probs,b_labels)\n",
        "    \n",
        "              val_losses.append(loss.item())\n",
        "          \n",
        "          batch_acc.append(self.evaluate(b_labels,b_pred_labels))\n",
        "          \n",
        "\n",
        "\n",
        "        \n",
        "     \n",
        "        return pred_labels, val_losses, mean(batch_acc), b_labels, batch_acc\n",
        "\n",
        "    def evaluate(self, gold_labels, pred_labels):\n",
        "        \"\"\" returns accuracy, nb_correct, nb_total \"\"\"\n",
        "        \n",
        "        acc = float(torch.sum(gold_labels == pred_labels))/len(gold_labels)\n",
        "        return acc\n",
        "\n",
        "        # TODO \n",
        "\n",
        "\n",
        "        \n"
      ],
      "execution_count": null,
      "outputs": []
    },
    {
      "cell_type": "code",
      "metadata": {
        "id": "vrkbQ4hVexy1",
        "colab": {
          "base_uri": "https://localhost:8080/"
        },
        "outputId": "34d2ff8c-40b8-42e6-e28a-ffc867c22a0a"
      },
      "source": [
        "# une instance de WSDClassifier\n",
        "num_labels = len(i2label)\n",
        "classifier = WSDClassifier(num_labels, device = 'cuda')\n",
        "\n",
        "#en décommentant, on voit le nb impressionnant de paramètres du modèle *BERT ...\n",
        "for name, param in classifier.named_parameters():\n",
        "  print(\"PARAM named %s, of shape %s\" % (name, str(param.shape)))\n",
        "  print(param.requires_grad)\n",
        "    \n"
      ],
      "execution_count": null,
      "outputs": [
        {
          "output_type": "stream",
          "text": [
            "PARAM named bert_layer.position_embeddings.weight, of shape torch.Size([512, 768])\n",
            "False\n",
            "PARAM named bert_layer.embeddings.weight, of shape torch.Size([68729, 768])\n",
            "False\n",
            "PARAM named bert_layer.layer_norm_emb.weight, of shape torch.Size([768])\n",
            "False\n",
            "PARAM named bert_layer.layer_norm_emb.bias, of shape torch.Size([768])\n",
            "False\n",
            "PARAM named bert_layer.attentions.0.q_lin.weight, of shape torch.Size([768, 768])\n",
            "False\n",
            "PARAM named bert_layer.attentions.0.q_lin.bias, of shape torch.Size([768])\n",
            "False\n",
            "PARAM named bert_layer.attentions.0.k_lin.weight, of shape torch.Size([768, 768])\n",
            "False\n",
            "PARAM named bert_layer.attentions.0.k_lin.bias, of shape torch.Size([768])\n",
            "False\n",
            "PARAM named bert_layer.attentions.0.v_lin.weight, of shape torch.Size([768, 768])\n",
            "False\n",
            "PARAM named bert_layer.attentions.0.v_lin.bias, of shape torch.Size([768])\n",
            "False\n",
            "PARAM named bert_layer.attentions.0.out_lin.weight, of shape torch.Size([768, 768])\n",
            "False\n",
            "PARAM named bert_layer.attentions.0.out_lin.bias, of shape torch.Size([768])\n",
            "False\n",
            "PARAM named bert_layer.attentions.1.q_lin.weight, of shape torch.Size([768, 768])\n",
            "False\n",
            "PARAM named bert_layer.attentions.1.q_lin.bias, of shape torch.Size([768])\n",
            "False\n",
            "PARAM named bert_layer.attentions.1.k_lin.weight, of shape torch.Size([768, 768])\n",
            "False\n",
            "PARAM named bert_layer.attentions.1.k_lin.bias, of shape torch.Size([768])\n",
            "False\n",
            "PARAM named bert_layer.attentions.1.v_lin.weight, of shape torch.Size([768, 768])\n",
            "False\n",
            "PARAM named bert_layer.attentions.1.v_lin.bias, of shape torch.Size([768])\n",
            "False\n",
            "PARAM named bert_layer.attentions.1.out_lin.weight, of shape torch.Size([768, 768])\n",
            "False\n",
            "PARAM named bert_layer.attentions.1.out_lin.bias, of shape torch.Size([768])\n",
            "False\n",
            "PARAM named bert_layer.attentions.2.q_lin.weight, of shape torch.Size([768, 768])\n",
            "False\n",
            "PARAM named bert_layer.attentions.2.q_lin.bias, of shape torch.Size([768])\n",
            "False\n",
            "PARAM named bert_layer.attentions.2.k_lin.weight, of shape torch.Size([768, 768])\n",
            "False\n",
            "PARAM named bert_layer.attentions.2.k_lin.bias, of shape torch.Size([768])\n",
            "False\n",
            "PARAM named bert_layer.attentions.2.v_lin.weight, of shape torch.Size([768, 768])\n",
            "False\n",
            "PARAM named bert_layer.attentions.2.v_lin.bias, of shape torch.Size([768])\n",
            "False\n",
            "PARAM named bert_layer.attentions.2.out_lin.weight, of shape torch.Size([768, 768])\n",
            "False\n",
            "PARAM named bert_layer.attentions.2.out_lin.bias, of shape torch.Size([768])\n",
            "False\n",
            "PARAM named bert_layer.attentions.3.q_lin.weight, of shape torch.Size([768, 768])\n",
            "False\n",
            "PARAM named bert_layer.attentions.3.q_lin.bias, of shape torch.Size([768])\n",
            "False\n",
            "PARAM named bert_layer.attentions.3.k_lin.weight, of shape torch.Size([768, 768])\n",
            "False\n",
            "PARAM named bert_layer.attentions.3.k_lin.bias, of shape torch.Size([768])\n",
            "False\n",
            "PARAM named bert_layer.attentions.3.v_lin.weight, of shape torch.Size([768, 768])\n",
            "False\n",
            "PARAM named bert_layer.attentions.3.v_lin.bias, of shape torch.Size([768])\n",
            "False\n",
            "PARAM named bert_layer.attentions.3.out_lin.weight, of shape torch.Size([768, 768])\n",
            "False\n",
            "PARAM named bert_layer.attentions.3.out_lin.bias, of shape torch.Size([768])\n",
            "False\n",
            "PARAM named bert_layer.attentions.4.q_lin.weight, of shape torch.Size([768, 768])\n",
            "False\n",
            "PARAM named bert_layer.attentions.4.q_lin.bias, of shape torch.Size([768])\n",
            "False\n",
            "PARAM named bert_layer.attentions.4.k_lin.weight, of shape torch.Size([768, 768])\n",
            "False\n",
            "PARAM named bert_layer.attentions.4.k_lin.bias, of shape torch.Size([768])\n",
            "False\n",
            "PARAM named bert_layer.attentions.4.v_lin.weight, of shape torch.Size([768, 768])\n",
            "False\n",
            "PARAM named bert_layer.attentions.4.v_lin.bias, of shape torch.Size([768])\n",
            "False\n",
            "PARAM named bert_layer.attentions.4.out_lin.weight, of shape torch.Size([768, 768])\n",
            "False\n",
            "PARAM named bert_layer.attentions.4.out_lin.bias, of shape torch.Size([768])\n",
            "False\n",
            "PARAM named bert_layer.attentions.5.q_lin.weight, of shape torch.Size([768, 768])\n",
            "False\n",
            "PARAM named bert_layer.attentions.5.q_lin.bias, of shape torch.Size([768])\n",
            "False\n",
            "PARAM named bert_layer.attentions.5.k_lin.weight, of shape torch.Size([768, 768])\n",
            "False\n",
            "PARAM named bert_layer.attentions.5.k_lin.bias, of shape torch.Size([768])\n",
            "False\n",
            "PARAM named bert_layer.attentions.5.v_lin.weight, of shape torch.Size([768, 768])\n",
            "False\n",
            "PARAM named bert_layer.attentions.5.v_lin.bias, of shape torch.Size([768])\n",
            "False\n",
            "PARAM named bert_layer.attentions.5.out_lin.weight, of shape torch.Size([768, 768])\n",
            "False\n",
            "PARAM named bert_layer.attentions.5.out_lin.bias, of shape torch.Size([768])\n",
            "False\n",
            "PARAM named bert_layer.attentions.6.q_lin.weight, of shape torch.Size([768, 768])\n",
            "False\n",
            "PARAM named bert_layer.attentions.6.q_lin.bias, of shape torch.Size([768])\n",
            "False\n",
            "PARAM named bert_layer.attentions.6.k_lin.weight, of shape torch.Size([768, 768])\n",
            "False\n",
            "PARAM named bert_layer.attentions.6.k_lin.bias, of shape torch.Size([768])\n",
            "False\n",
            "PARAM named bert_layer.attentions.6.v_lin.weight, of shape torch.Size([768, 768])\n",
            "False\n",
            "PARAM named bert_layer.attentions.6.v_lin.bias, of shape torch.Size([768])\n",
            "False\n",
            "PARAM named bert_layer.attentions.6.out_lin.weight, of shape torch.Size([768, 768])\n",
            "False\n",
            "PARAM named bert_layer.attentions.6.out_lin.bias, of shape torch.Size([768])\n",
            "False\n",
            "PARAM named bert_layer.attentions.7.q_lin.weight, of shape torch.Size([768, 768])\n",
            "False\n",
            "PARAM named bert_layer.attentions.7.q_lin.bias, of shape torch.Size([768])\n",
            "False\n",
            "PARAM named bert_layer.attentions.7.k_lin.weight, of shape torch.Size([768, 768])\n",
            "False\n",
            "PARAM named bert_layer.attentions.7.k_lin.bias, of shape torch.Size([768])\n",
            "False\n",
            "PARAM named bert_layer.attentions.7.v_lin.weight, of shape torch.Size([768, 768])\n",
            "False\n",
            "PARAM named bert_layer.attentions.7.v_lin.bias, of shape torch.Size([768])\n",
            "False\n",
            "PARAM named bert_layer.attentions.7.out_lin.weight, of shape torch.Size([768, 768])\n",
            "False\n",
            "PARAM named bert_layer.attentions.7.out_lin.bias, of shape torch.Size([768])\n",
            "False\n",
            "PARAM named bert_layer.attentions.8.q_lin.weight, of shape torch.Size([768, 768])\n",
            "False\n",
            "PARAM named bert_layer.attentions.8.q_lin.bias, of shape torch.Size([768])\n",
            "False\n",
            "PARAM named bert_layer.attentions.8.k_lin.weight, of shape torch.Size([768, 768])\n",
            "False\n",
            "PARAM named bert_layer.attentions.8.k_lin.bias, of shape torch.Size([768])\n",
            "False\n",
            "PARAM named bert_layer.attentions.8.v_lin.weight, of shape torch.Size([768, 768])\n",
            "False\n",
            "PARAM named bert_layer.attentions.8.v_lin.bias, of shape torch.Size([768])\n",
            "False\n",
            "PARAM named bert_layer.attentions.8.out_lin.weight, of shape torch.Size([768, 768])\n",
            "False\n",
            "PARAM named bert_layer.attentions.8.out_lin.bias, of shape torch.Size([768])\n",
            "False\n",
            "PARAM named bert_layer.attentions.9.q_lin.weight, of shape torch.Size([768, 768])\n",
            "False\n",
            "PARAM named bert_layer.attentions.9.q_lin.bias, of shape torch.Size([768])\n",
            "False\n",
            "PARAM named bert_layer.attentions.9.k_lin.weight, of shape torch.Size([768, 768])\n",
            "False\n",
            "PARAM named bert_layer.attentions.9.k_lin.bias, of shape torch.Size([768])\n",
            "False\n",
            "PARAM named bert_layer.attentions.9.v_lin.weight, of shape torch.Size([768, 768])\n",
            "False\n",
            "PARAM named bert_layer.attentions.9.v_lin.bias, of shape torch.Size([768])\n",
            "False\n",
            "PARAM named bert_layer.attentions.9.out_lin.weight, of shape torch.Size([768, 768])\n",
            "False\n",
            "PARAM named bert_layer.attentions.9.out_lin.bias, of shape torch.Size([768])\n",
            "False\n",
            "PARAM named bert_layer.attentions.10.q_lin.weight, of shape torch.Size([768, 768])\n",
            "False\n",
            "PARAM named bert_layer.attentions.10.q_lin.bias, of shape torch.Size([768])\n",
            "False\n",
            "PARAM named bert_layer.attentions.10.k_lin.weight, of shape torch.Size([768, 768])\n",
            "False\n",
            "PARAM named bert_layer.attentions.10.k_lin.bias, of shape torch.Size([768])\n",
            "False\n",
            "PARAM named bert_layer.attentions.10.v_lin.weight, of shape torch.Size([768, 768])\n",
            "False\n",
            "PARAM named bert_layer.attentions.10.v_lin.bias, of shape torch.Size([768])\n",
            "False\n",
            "PARAM named bert_layer.attentions.10.out_lin.weight, of shape torch.Size([768, 768])\n",
            "False\n",
            "PARAM named bert_layer.attentions.10.out_lin.bias, of shape torch.Size([768])\n",
            "False\n",
            "PARAM named bert_layer.attentions.11.q_lin.weight, of shape torch.Size([768, 768])\n",
            "False\n",
            "PARAM named bert_layer.attentions.11.q_lin.bias, of shape torch.Size([768])\n",
            "False\n",
            "PARAM named bert_layer.attentions.11.k_lin.weight, of shape torch.Size([768, 768])\n",
            "False\n",
            "PARAM named bert_layer.attentions.11.k_lin.bias, of shape torch.Size([768])\n",
            "False\n",
            "PARAM named bert_layer.attentions.11.v_lin.weight, of shape torch.Size([768, 768])\n",
            "False\n",
            "PARAM named bert_layer.attentions.11.v_lin.bias, of shape torch.Size([768])\n",
            "False\n",
            "PARAM named bert_layer.attentions.11.out_lin.weight, of shape torch.Size([768, 768])\n",
            "False\n",
            "PARAM named bert_layer.attentions.11.out_lin.bias, of shape torch.Size([768])\n",
            "False\n",
            "PARAM named bert_layer.layer_norm1.0.weight, of shape torch.Size([768])\n",
            "False\n",
            "PARAM named bert_layer.layer_norm1.0.bias, of shape torch.Size([768])\n",
            "False\n",
            "PARAM named bert_layer.layer_norm1.1.weight, of shape torch.Size([768])\n",
            "False\n",
            "PARAM named bert_layer.layer_norm1.1.bias, of shape torch.Size([768])\n",
            "False\n",
            "PARAM named bert_layer.layer_norm1.2.weight, of shape torch.Size([768])\n",
            "False\n",
            "PARAM named bert_layer.layer_norm1.2.bias, of shape torch.Size([768])\n",
            "False\n",
            "PARAM named bert_layer.layer_norm1.3.weight, of shape torch.Size([768])\n",
            "False\n",
            "PARAM named bert_layer.layer_norm1.3.bias, of shape torch.Size([768])\n",
            "False\n",
            "PARAM named bert_layer.layer_norm1.4.weight, of shape torch.Size([768])\n",
            "False\n",
            "PARAM named bert_layer.layer_norm1.4.bias, of shape torch.Size([768])\n",
            "False\n",
            "PARAM named bert_layer.layer_norm1.5.weight, of shape torch.Size([768])\n",
            "False\n",
            "PARAM named bert_layer.layer_norm1.5.bias, of shape torch.Size([768])\n",
            "False\n",
            "PARAM named bert_layer.layer_norm1.6.weight, of shape torch.Size([768])\n",
            "False\n",
            "PARAM named bert_layer.layer_norm1.6.bias, of shape torch.Size([768])\n",
            "False\n",
            "PARAM named bert_layer.layer_norm1.7.weight, of shape torch.Size([768])\n",
            "False\n",
            "PARAM named bert_layer.layer_norm1.7.bias, of shape torch.Size([768])\n",
            "False\n",
            "PARAM named bert_layer.layer_norm1.8.weight, of shape torch.Size([768])\n",
            "False\n",
            "PARAM named bert_layer.layer_norm1.8.bias, of shape torch.Size([768])\n",
            "False\n",
            "PARAM named bert_layer.layer_norm1.9.weight, of shape torch.Size([768])\n",
            "False\n",
            "PARAM named bert_layer.layer_norm1.9.bias, of shape torch.Size([768])\n",
            "False\n",
            "PARAM named bert_layer.layer_norm1.10.weight, of shape torch.Size([768])\n",
            "False\n",
            "PARAM named bert_layer.layer_norm1.10.bias, of shape torch.Size([768])\n",
            "False\n",
            "PARAM named bert_layer.layer_norm1.11.weight, of shape torch.Size([768])\n",
            "False\n",
            "PARAM named bert_layer.layer_norm1.11.bias, of shape torch.Size([768])\n",
            "False\n",
            "PARAM named bert_layer.ffns.0.lin1.weight, of shape torch.Size([3072, 768])\n",
            "False\n",
            "PARAM named bert_layer.ffns.0.lin1.bias, of shape torch.Size([3072])\n",
            "False\n",
            "PARAM named bert_layer.ffns.0.lin2.weight, of shape torch.Size([768, 3072])\n",
            "False\n",
            "PARAM named bert_layer.ffns.0.lin2.bias, of shape torch.Size([768])\n",
            "False\n",
            "PARAM named bert_layer.ffns.1.lin1.weight, of shape torch.Size([3072, 768])\n",
            "False\n",
            "PARAM named bert_layer.ffns.1.lin1.bias, of shape torch.Size([3072])\n",
            "False\n",
            "PARAM named bert_layer.ffns.1.lin2.weight, of shape torch.Size([768, 3072])\n",
            "False\n",
            "PARAM named bert_layer.ffns.1.lin2.bias, of shape torch.Size([768])\n",
            "False\n",
            "PARAM named bert_layer.ffns.2.lin1.weight, of shape torch.Size([3072, 768])\n",
            "False\n",
            "PARAM named bert_layer.ffns.2.lin1.bias, of shape torch.Size([3072])\n",
            "False\n",
            "PARAM named bert_layer.ffns.2.lin2.weight, of shape torch.Size([768, 3072])\n",
            "False\n",
            "PARAM named bert_layer.ffns.2.lin2.bias, of shape torch.Size([768])\n",
            "False\n",
            "PARAM named bert_layer.ffns.3.lin1.weight, of shape torch.Size([3072, 768])\n",
            "False\n",
            "PARAM named bert_layer.ffns.3.lin1.bias, of shape torch.Size([3072])\n",
            "False\n",
            "PARAM named bert_layer.ffns.3.lin2.weight, of shape torch.Size([768, 3072])\n",
            "False\n",
            "PARAM named bert_layer.ffns.3.lin2.bias, of shape torch.Size([768])\n",
            "False\n",
            "PARAM named bert_layer.ffns.4.lin1.weight, of shape torch.Size([3072, 768])\n",
            "False\n",
            "PARAM named bert_layer.ffns.4.lin1.bias, of shape torch.Size([3072])\n",
            "False\n",
            "PARAM named bert_layer.ffns.4.lin2.weight, of shape torch.Size([768, 3072])\n",
            "False\n",
            "PARAM named bert_layer.ffns.4.lin2.bias, of shape torch.Size([768])\n",
            "False\n",
            "PARAM named bert_layer.ffns.5.lin1.weight, of shape torch.Size([3072, 768])\n",
            "False\n",
            "PARAM named bert_layer.ffns.5.lin1.bias, of shape torch.Size([3072])\n",
            "False\n",
            "PARAM named bert_layer.ffns.5.lin2.weight, of shape torch.Size([768, 3072])\n",
            "False\n",
            "PARAM named bert_layer.ffns.5.lin2.bias, of shape torch.Size([768])\n",
            "False\n",
            "PARAM named bert_layer.ffns.6.lin1.weight, of shape torch.Size([3072, 768])\n",
            "False\n",
            "PARAM named bert_layer.ffns.6.lin1.bias, of shape torch.Size([3072])\n",
            "False\n",
            "PARAM named bert_layer.ffns.6.lin2.weight, of shape torch.Size([768, 3072])\n",
            "False\n",
            "PARAM named bert_layer.ffns.6.lin2.bias, of shape torch.Size([768])\n",
            "False\n",
            "PARAM named bert_layer.ffns.7.lin1.weight, of shape torch.Size([3072, 768])\n",
            "False\n",
            "PARAM named bert_layer.ffns.7.lin1.bias, of shape torch.Size([3072])\n",
            "False\n",
            "PARAM named bert_layer.ffns.7.lin2.weight, of shape torch.Size([768, 3072])\n",
            "False\n",
            "PARAM named bert_layer.ffns.7.lin2.bias, of shape torch.Size([768])\n",
            "False\n",
            "PARAM named bert_layer.ffns.8.lin1.weight, of shape torch.Size([3072, 768])\n",
            "False\n",
            "PARAM named bert_layer.ffns.8.lin1.bias, of shape torch.Size([3072])\n",
            "False\n",
            "PARAM named bert_layer.ffns.8.lin2.weight, of shape torch.Size([768, 3072])\n",
            "False\n",
            "PARAM named bert_layer.ffns.8.lin2.bias, of shape torch.Size([768])\n",
            "False\n",
            "PARAM named bert_layer.ffns.9.lin1.weight, of shape torch.Size([3072, 768])\n",
            "False\n",
            "PARAM named bert_layer.ffns.9.lin1.bias, of shape torch.Size([3072])\n",
            "False\n",
            "PARAM named bert_layer.ffns.9.lin2.weight, of shape torch.Size([768, 3072])\n",
            "False\n",
            "PARAM named bert_layer.ffns.9.lin2.bias, of shape torch.Size([768])\n",
            "False\n",
            "PARAM named bert_layer.ffns.10.lin1.weight, of shape torch.Size([3072, 768])\n",
            "False\n",
            "PARAM named bert_layer.ffns.10.lin1.bias, of shape torch.Size([3072])\n",
            "False\n",
            "PARAM named bert_layer.ffns.10.lin2.weight, of shape torch.Size([768, 3072])\n",
            "False\n",
            "PARAM named bert_layer.ffns.10.lin2.bias, of shape torch.Size([768])\n",
            "False\n",
            "PARAM named bert_layer.ffns.11.lin1.weight, of shape torch.Size([3072, 768])\n",
            "False\n",
            "PARAM named bert_layer.ffns.11.lin1.bias, of shape torch.Size([3072])\n",
            "False\n",
            "PARAM named bert_layer.ffns.11.lin2.weight, of shape torch.Size([768, 3072])\n",
            "False\n",
            "PARAM named bert_layer.ffns.11.lin2.bias, of shape torch.Size([768])\n",
            "False\n",
            "PARAM named bert_layer.layer_norm2.0.weight, of shape torch.Size([768])\n",
            "False\n",
            "PARAM named bert_layer.layer_norm2.0.bias, of shape torch.Size([768])\n",
            "False\n",
            "PARAM named bert_layer.layer_norm2.1.weight, of shape torch.Size([768])\n",
            "False\n",
            "PARAM named bert_layer.layer_norm2.1.bias, of shape torch.Size([768])\n",
            "False\n",
            "PARAM named bert_layer.layer_norm2.2.weight, of shape torch.Size([768])\n",
            "False\n",
            "PARAM named bert_layer.layer_norm2.2.bias, of shape torch.Size([768])\n",
            "False\n",
            "PARAM named bert_layer.layer_norm2.3.weight, of shape torch.Size([768])\n",
            "False\n",
            "PARAM named bert_layer.layer_norm2.3.bias, of shape torch.Size([768])\n",
            "False\n",
            "PARAM named bert_layer.layer_norm2.4.weight, of shape torch.Size([768])\n",
            "False\n",
            "PARAM named bert_layer.layer_norm2.4.bias, of shape torch.Size([768])\n",
            "False\n",
            "PARAM named bert_layer.layer_norm2.5.weight, of shape torch.Size([768])\n",
            "False\n",
            "PARAM named bert_layer.layer_norm2.5.bias, of shape torch.Size([768])\n",
            "False\n",
            "PARAM named bert_layer.layer_norm2.6.weight, of shape torch.Size([768])\n",
            "False\n",
            "PARAM named bert_layer.layer_norm2.6.bias, of shape torch.Size([768])\n",
            "False\n",
            "PARAM named bert_layer.layer_norm2.7.weight, of shape torch.Size([768])\n",
            "False\n",
            "PARAM named bert_layer.layer_norm2.7.bias, of shape torch.Size([768])\n",
            "False\n",
            "PARAM named bert_layer.layer_norm2.8.weight, of shape torch.Size([768])\n",
            "False\n",
            "PARAM named bert_layer.layer_norm2.8.bias, of shape torch.Size([768])\n",
            "False\n",
            "PARAM named bert_layer.layer_norm2.9.weight, of shape torch.Size([768])\n",
            "False\n",
            "PARAM named bert_layer.layer_norm2.9.bias, of shape torch.Size([768])\n",
            "False\n",
            "PARAM named bert_layer.layer_norm2.10.weight, of shape torch.Size([768])\n",
            "False\n",
            "PARAM named bert_layer.layer_norm2.10.bias, of shape torch.Size([768])\n",
            "False\n",
            "PARAM named bert_layer.layer_norm2.11.weight, of shape torch.Size([768])\n",
            "False\n",
            "PARAM named bert_layer.layer_norm2.11.bias, of shape torch.Size([768])\n",
            "False\n",
            "PARAM named linear.weight, of shape torch.Size([106, 768])\n",
            "True\n",
            "PARAM named linear.bias, of shape torch.Size([106])\n",
            "True\n"
          ],
          "name": "stdout"
        }
      ]
    },
    {
      "cell_type": "markdown",
      "metadata": {
        "id": "6LeXSxEXexy5"
      },
      "source": [
        "#### Test de la propagation avant"
      ]
    },
    {
      "cell_type": "code",
      "metadata": {
        "id": "P4iIZvzDexy7",
        "colab": {
          "base_uri": "https://localhost:8080/"
        },
        "outputId": "720d7ada-24a6-4ed7-f6a7-6e9ddd19d6bf"
      },
      "source": [
        "\n",
        "\n",
        "# inutile de calculer les gradients\n",
        "with torch.no_grad():\n",
        "    # mode evaluation et pas train\n",
        "    classifier.eval()\n",
        "    for b_tid_seqs, b_tg_trks, b_labels, _ in wsd_data['dev'].make_batches(32, shuffle_data=True):\n",
        "        b_tid_seqs = torch.tensor(b_tid_seqs, device=classifier.device)\n",
        "        b_tg_trks = torch.tensor(b_tg_trks, device=classifier.device)\n",
        "        b_labels = torch.tensor(b_labels, device=classifier.device).to(classifier.device)\n",
        "        print('input size : ',b_tid_seqs.size(),\" reference size : \",b_tg_trks.size())\n",
        "        log_probs = classifier(b_tid_seqs, b_tg_trks)\n",
        "        print('output size : ',log_probs.size(),\" reference size : \",b_labels.size())\n",
        "       \n",
        "        gold = b_labels[0] #.item()\n",
        "        print(\"GOLD LABEL of first ex %d ( = %s)\" % (gold, i2label[gold]))\n",
        "        print(\"LOG_PROBS before training: %s\\n\\n\" % str(log_probs[0]))\n",
        "        break\n",
        "        \n",
        "\n",
        "        \n",
        "\n"
      ],
      "execution_count": null,
      "outputs": [
        {
          "output_type": "stream",
          "text": [
            "input size :  torch.Size([32, 300])  reference size :  torch.Size([32])\n",
            "output size :  torch.Size([32, 106])  reference size :  torch.Size([32])\n",
            "GOLD LABEL of first ex 45 ( = Commerce_sell)\n",
            "LOG_PROBS before training: tensor([-3.7284, -5.1197, -4.1884, -7.6664, -4.8634, -3.9092, -4.8207, -4.5038,\n",
            "        -5.1712, -5.3768, -6.0964, -4.6506, -5.2555, -3.7594, -4.2031, -6.1007,\n",
            "        -5.6158, -4.3698, -3.7725, -5.3429, -6.9869, -3.9009, -3.5555, -6.3361,\n",
            "        -3.5417, -4.2966, -5.3058, -4.4760, -4.7242, -5.2146, -5.0569, -5.2539,\n",
            "        -6.7907, -4.5246, -5.0665, -5.1983, -6.0098, -5.5797, -5.3340, -6.2512,\n",
            "        -4.1346, -5.0070, -4.1355, -3.5273, -6.0361, -7.1871, -5.2185, -4.0830,\n",
            "        -5.9350, -7.8612, -4.7678, -4.5445, -4.5384, -4.9718, -5.1677, -6.4736,\n",
            "        -3.2220, -6.1443, -5.7149, -5.5913, -4.3186, -3.5974, -6.0416, -6.6388,\n",
            "        -4.8633, -6.9739, -5.8651, -4.6429, -3.7798, -5.2011, -3.0197, -5.0672,\n",
            "        -3.8935, -4.4543, -5.4348, -4.5266, -6.9515, -3.9264, -4.7719, -5.3997,\n",
            "        -4.7502, -5.3103, -5.9863, -5.8679, -5.6085, -3.7247, -4.3122, -5.1599,\n",
            "        -6.2063, -6.0741, -4.1927, -4.3918, -6.6617, -4.1579, -5.8224, -4.0807,\n",
            "        -4.3544, -5.2361, -5.1126, -5.8277, -6.7858, -3.9601, -5.0269, -4.5933,\n",
            "        -5.9675, -6.1745], device='cuda:0')\n",
            "\n",
            "\n"
          ],
          "name": "stdout"
        }
      ]
    },
    {
      "cell_type": "code",
      "metadata": {
        "id": "v2Hz7e9-oZcF",
        "colab": {
          "base_uri": "https://localhost:8080/"
        },
        "outputId": "c007685c-8da8-449c-d5c8-89023191b9b8"
      },
      "source": [
        "import numpy as np\n",
        "np.array(wsd_data['train'].labels).shape"
      ],
      "execution_count": null,
      "outputs": [
        {
          "output_type": "execute_result",
          "data": {
            "text/plain": [
              "(16792,)"
            ]
          },
          "metadata": {
            "tags": []
          },
          "execution_count": 28
        }
      ]
    },
    {
      "cell_type": "code",
      "metadata": {
        "id": "etG6nI8CofMp",
        "colab": {
          "base_uri": "https://localhost:8080/"
        },
        "outputId": "62495e87-c285-4114-9e4d-7b9ef9397b65"
      },
      "source": [
        "np.array(list(label2i.values()))"
      ],
      "execution_count": null,
      "outputs": [
        {
          "output_type": "execute_result",
          "data": {
            "text/plain": [
              "array([  0,   1,   2,   3,   4,   5,   6,   7,   8,   9,  10,  11,  12,\n",
              "        13,  14,  15,  16,  17,  18,  19,  20,  21,  22,  23,  24,  25,\n",
              "        26,  27,  28,  29,  30,  31,  32,  33,  34,  35,  36,  37,  38,\n",
              "        39,  40,  41,  42,  43,  44,  45,  46,  47,  48,  49,  50,  51,\n",
              "        52,  53,  54,  55,  56,  57,  58,  59,  60,  61,  62,  63,  64,\n",
              "        65,  66,  67,  68,  69,  70,  71,  72,  73,  74,  75,  76,  77,\n",
              "        78,  79,  80,  81,  82,  83,  84,  85,  86,  87,  88,  89,  90,\n",
              "        91,  92,  93,  94,  95,  96,  97,  98,  99, 100, 101, 102, 103,\n",
              "       104, 105])"
            ]
          },
          "metadata": {
            "tags": []
          },
          "execution_count": 29
        }
      ]
    },
    {
      "cell_type": "markdown",
      "metadata": {
        "id": "aikfNi0zexy9"
      },
      "source": [
        "### Entraînement : fine-tuning sur la tâche de WSD"
      ]
    },
    {
      "cell_type": "code",
      "metadata": {
        "colab": {
          "base_uri": "https://localhost:8080/"
        },
        "id": "9p28nDcdYUqi",
        "outputId": "e681959b-5fef-45cb-ae26-471bb53ba15d"
      },
      "source": [
        "# training\n",
        "from statistics import mean\n",
        "import numpy as np\n",
        "\n",
        "BATCH_SIZE = 32\n",
        "LR = 0.0005\n",
        "n_epochs = 20\n",
        "import numpy as np\n",
        "stop_early = 0\n",
        "early_stopping_patience = 6\n",
        "\n",
        "\n",
        "#loss_function = nn.CrossEntropyLoss()\n",
        "loss_function = nn.NLLLoss() \n",
        "#optimizer = optim.SGD(classifier.parameters(), lr=LR)\n",
        "optimizer = optim.Adam(classifier.parameters(), lr=LR)\n",
        "\n",
        "config_name = 'sequoiaftb.asfalda_1_3.wsd.lr' + 'Adam' + str(LR) + '_bs' + str(BATCH_SIZE)\n",
        "out_model_file = './' + config_name + '.model'\n",
        "out_log_file = './' + config_name + '.log'\n",
        "\n",
        "\n",
        "# perte à chaque époque (sur le train / sur le validation set)\n",
        "train_losses = []\n",
        "val_losses = []\n",
        "val_accs = []\n",
        "min_val_loss = None\n",
        "epoch_losses = []\n",
        "# pour tests: utiliser training sur dev\n",
        "#train_data = data['dev'] # data['train']\n",
        "train_data = wsd_data['train']\n",
        "val_data = wsd_data['val']\n",
        "dev_data = wsd_data['dev']\n",
        "classifier.train()\n",
        "early_stopping_patience = 0 #how many times dev accuracy might be smaller than previous time\n",
        "stop_early = 6\n",
        "\n",
        "print('Training.....')\n",
        "acc = 0\n",
        "for epoch in range(n_epochs):  # loop over the dataset multiple times\n",
        "  classifier.train()\n",
        "  \n",
        "  print('Training..... epoch nr: ', epoch)\n",
        "  for b_tid_seqs, b_tg_trks, b_labels, _ in train_data.make_batches(64, shuffle_data=True):\n",
        "    \n",
        "  \n",
        "    optimizer.zero_grad()\n",
        "    b_tid_seqs = torch.tensor(b_tid_seqs, device=classifier.device).to(classifier.device)\n",
        "    b_tg_trks = torch.tensor(b_tg_trks, device=classifier.device).to(classifier.device)\n",
        "    b_labels = torch.tensor(b_labels, device=classifier.device).to(classifier.device)\n",
        "    log_probs = classifier(b_tid_seqs, b_tg_trks).to(classifier.device)\n",
        "  \n",
        "    loss = loss_function(log_probs,  b_labels)\n",
        "    \n",
        "    loss.backward()\n",
        "    optimizer.step()\n",
        "    train_losses.append(loss.item())\n",
        "  epoch_losses.append(sum(train_losses)/len(train_losses))\n",
        "  \n",
        "  pred_labels, val_losses, val_acc, _, _ = classifier.run_on_dataset(val_data, optimizer, batch_size=32, validation_use=True)\n",
        "  print('--------')\n",
        "  print('train loss: ',epoch_losses[-1],'val accuracy: ', val_acc)\n",
        "  print('--------')\n",
        "  if val_acc>=acc:\n",
        "    acc=val_acc\n",
        "  else:\n",
        "    early_stopping_patience +=1\n",
        "    if early_stopping_patience == stop_early:\n",
        "      print('Stopping early...')\n",
        "      break\n",
        "\n",
        "  \n",
        "    \n",
        "  \n",
        " \n",
        "\n",
        "\n",
        "        \n",
        "  \n",
        "           \n",
        "# TODO HERE\n",
        "# training\n",
        "# - basic : train for NB_EPOCHS +\n",
        "# - BONUS : early stopping: stop epoch loop as soon as accuracy on dev decreases+\n",
        "\n",
        "# don't forget to toggle \n",
        "# - classifier.train() when training on train\n",
        "# - classifier.eval() when evaluating on val corpus\n",
        "\n",
        "\n",
        "print(\"train losses: %s\" % ' / '.join([ \"%.4f\" % x for x in epoch_losses]))\n",
        "print(\"val   losses: %s\" % ' / '.join([ \"%.4f\" % x for x in val_losses]))\n",
        "\n"
      ],
      "execution_count": null,
      "outputs": [
        {
          "output_type": "stream",
          "text": [
            "Training.....\n",
            "Training..... epoch nr:  0\n"
          ],
          "name": "stdout"
        },
        {
          "output_type": "stream",
          "text": [
            "/usr/local/lib/python3.6/dist-packages/ipykernel_launcher.py:68: UserWarning: To copy construct from a tensor, it is recommended to use sourceTensor.clone().detach() or sourceTensor.clone().detach().requires_grad_(True), rather than torch.tensor(sourceTensor).\n"
          ],
          "name": "stderr"
        },
        {
          "output_type": "stream",
          "text": [
            "train loss:  1.9075724115389834\n",
            "--------\n",
            "Training..... epoch nr:  1\n",
            "train loss:  1.4179676571159763\n",
            "--------\n",
            "Training..... epoch nr:  2\n",
            "train loss:  1.1978630571613142\n",
            "--------\n",
            "Training..... epoch nr:  3\n",
            "train loss:  1.06252765392056\n",
            "--------\n",
            "Training..... epoch nr:  4\n",
            "train loss:  0.9746449145074126\n",
            "--------\n",
            "Training..... epoch nr:  5\n",
            "train loss:  0.9094379373338588\n",
            "--------\n",
            "Training..... epoch nr:  6\n",
            "train loss:  0.8584814608291333\n",
            "--------\n",
            "Training..... epoch nr:  7\n",
            "train loss:  0.8192428477009326\n",
            "--------\n",
            "Training..... epoch nr:  8\n",
            "train loss:  0.7869500368518773\n",
            "--------\n",
            "Training..... epoch nr:  9\n",
            "train loss:  0.7586802986751491\n",
            "--------\n",
            "Training..... epoch nr:  10\n",
            "train loss:  0.7349927172945562\n",
            "--------\n",
            "Training..... epoch nr:  11\n",
            "train loss:  0.715046584096245\n",
            "--------\n",
            "Training..... epoch nr:  12\n",
            "train loss:  0.6978233416645664\n",
            "--------\n",
            "Training..... epoch nr:  13\n",
            "train loss:  0.6818266354829057\n",
            "--------\n",
            "Training..... epoch nr:  14\n",
            "train loss:  0.6674096907499625\n",
            "--------\n",
            "Stopping early...\n",
            "train losses: 1.9076 / 1.4180 / 1.1979 / 1.0625 / 0.9746 / 0.9094 / 0.8585 / 0.8192 / 0.7870 / 0.7587 / 0.7350 / 0.7150 / 0.6978 / 0.6818 / 0.6674\n",
            "val   losses: 0.5400 / 0.5282 / 0.5138 / 0.5869 / 0.4018 / 0.5511 / 0.4437 / 0.8086 / 0.3218 / 0.4396 / 0.8156 / 0.1877 / 0.4319 / 0.2771 / 0.1977 / 0.6984 / 0.3428 / 0.6287 / 0.4062 / 0.6673 / 0.4650 / 0.6791 / 0.4073 / 0.3351 / 0.1785 / 0.3261 / 0.2933 / 0.2496 / 0.5788 / 0.7820 / 1.0645 / 0.3955 / 0.5337 / 0.7163 / 0.6221 / 0.2864 / 0.6535 / 0.3083 / 0.3044 / 0.2559 / 0.5280 / 0.5186 / 0.5154 / 0.8574 / 0.3713 / 0.6659 / 0.2565 / 0.3140 / 0.8098 / 0.9371 / 0.7123 / 0.5503 / 0.5968 / 0.6778 / 0.4161 / 1.0709 / 0.4758 / 1.1088 / 1.3440\n"
          ],
          "name": "stdout"
        }
      ]
    },
    {
      "cell_type": "markdown",
      "metadata": {
        "id": "aOvw3cXaYKtz"
      },
      "source": [
        "Below is a version of classifier with added weights"
      ]
    },
    {
      "cell_type": "code",
      "metadata": {
        "id": "eOKrCRPFexy-",
        "colab": {
          "base_uri": "https://localhost:8080/"
        },
        "outputId": "3d5ab60b-142b-4436-c5e9-9831617ee55c"
      },
      "source": [
        "# training\n",
        "from statistics import mean\n",
        "import numpy as np\n",
        "stop_early = 0\n",
        "early_stopping_patience = 6\n",
        "\n",
        "\n",
        "classifier_weights = WSDClassifier(num_labels, device = 'cuda', use_mlp = False, hidden_size = 100,nbr_lemmas = len(lemma2i), lemma_embedding_size = 518, add_lemmas = False)\n",
        "BATCH_SIZE = 32\n",
        "LR = 0.0005\n",
        "n_epochs = 20\n",
        "import numpy as np\n",
        "from sklearn.utils.class_weight import compute_class_weight\n",
        "class_weight = compute_class_weight(\"balanced\", np.unique(list(label2i.values())),list(label2i.values()))\n",
        "\n",
        "class_weight = torch.tensor(class_weight, dtype=torch.float).to(classifier.device)\n",
        "\n",
        "#loss_function = nn.CrossEntropyLoss()\n",
        "loss_function = nn.NLLLoss(weight = class_weight) \n",
        "#optimizer = optim.SGD(classifier.parameters(), lr=LR)\n",
        "optimizer = optim.Adam(classifier_weights.parameters(), lr=LR)\n",
        "\n",
        "config_name = 'sequoiaftb.asfalda_1_3.wsd.lr' + 'Adam' + str(LR) + '_bs' + str(BATCH_SIZE)\n",
        "out_model_file = './' + config_name + '.model'\n",
        "out_log_file = './' + config_name + '.log'\n",
        "\n",
        "\n",
        "# perte à chaque époque (sur le train / sur le validation set)\n",
        "train_losses = []\n",
        "val_losses = []\n",
        "val_accs = []\n",
        "min_val_loss = None\n",
        "epoch_losses = []\n",
        "# pour tests: utiliser training sur dev\n",
        "#train_data = data['dev'] # data['train']\n",
        "train_data = wsd_data['train']\n",
        "val_data = wsd_data['val']\n",
        "dev_data = wsd_data['dev']\n",
        "classifier_weights.train()\n",
        "early_stopping_patience = 0 #how many times dev accuracy might be smaller than previous time\n",
        "stop_early = 6\n",
        "\n",
        "print('Training.....')\n",
        "acc = 0\n",
        "for epoch in range(n_epochs):  # loop over the dataset multiple times\n",
        "  classifier_weights.train()\n",
        "  \n",
        "  print('Training..... epoch nr: ', epoch)\n",
        "  for b_tid_seqs, b_tg_trks, b_labels, _ in train_data.make_batches(64, shuffle_data=True):\n",
        "    \n",
        "  \n",
        "    optimizer.zero_grad()\n",
        "    b_tid_seqs = torch.tensor(b_tid_seqs, device=classifier_weights.device).to(classifier_weights.device)\n",
        "    b_tg_trks = torch.tensor(b_tg_trks, device=classifier_weights.device).to(classifier_weights.device)\n",
        "    b_labels = torch.tensor(b_labels, device=classifier_weights.device).to(classifier_weights.device)\n",
        "    log_probs = classifier_weights(b_tid_seqs, b_tg_trks).to(classifier_weights.device)\n",
        "  \n",
        "    loss = loss_function(log_probs,  b_labels)\n",
        "    \n",
        "    loss.backward()\n",
        "    optimizer.step()\n",
        "    train_losses.append(loss.item())\n",
        "  epoch_losses.append(sum(train_losses)/len(train_losses))\n",
        " \n",
        "  \n",
        "  pred_labels, val_losses, val_acc, _, _ = classifier_weights.run_on_dataset(val_data, optimizer, batch_size=32, validation_use=True)\n",
        "  val_accs.append(val_acc)\n",
        "  print('--------')\n",
        "  print('train loss: ',epoch_losses[-1],'val accuracy: ', val_acc)\n",
        "  print('--------')\n",
        " \n",
        "  if val_acc>=acc:\n",
        "    acc=val_acc\n",
        "  else:\n",
        "    early_stopping_patience +=1\n",
        "    if early_stopping_patience == stop_early:\n",
        "      print('Stopping early...')\n",
        "      break\n",
        "\n",
        "  \n",
        "    \n",
        "  \n",
        " \n",
        "\n",
        "\n",
        "        \n",
        "  \n",
        "           \n",
        "# TODO HERE\n",
        "# training\n",
        "# - basic : train for NB_EPOCHS +\n",
        "# - BONUS : early stopping: stop epoch loop as soon as accuracy on dev decreases+\n",
        "\n",
        "# don't forget to toggle \n",
        "# - classifier.train() when training on train\n",
        "# - classifier.eval() when evaluating on val corpus\n",
        "\n",
        "\n",
        "print(\"train losses: %s\" % ' / '.join([ \"%.4f\" % x for x in epoch_losses]))\n",
        "print(\"val   losses: %s\" % ' / '.join([ \"%.4f\" % x for x in val_losses]))\n",
        "\n"
      ],
      "execution_count": null,
      "outputs": [
        {
          "output_type": "stream",
          "text": [
            "Training.....\n",
            "Training..... epoch nr:  0\n"
          ],
          "name": "stdout"
        },
        {
          "output_type": "stream",
          "text": [
            "/usr/local/lib/python3.6/dist-packages/ipykernel_launcher.py:68: UserWarning: To copy construct from a tensor, it is recommended to use sourceTensor.clone().detach() or sourceTensor.clone().detach().requires_grad_(True), rather than torch.tensor(sourceTensor).\n"
          ],
          "name": "stderr"
        },
        {
          "output_type": "stream",
          "text": [
            "train loss:  1.8994931034715457\n",
            "--------\n",
            "Training..... epoch nr:  1\n",
            "train loss:  1.4174946367513996\n",
            "--------\n",
            "Training..... epoch nr:  2\n",
            "train loss:  1.1948242937657316\n",
            "--------\n",
            "Training..... epoch nr:  3\n",
            "train loss:  1.0638778495527945\n",
            "--------\n",
            "Training..... epoch nr:  4\n",
            "train loss:  0.9740305513030223\n",
            "--------\n",
            "Training..... epoch nr:  5\n",
            "train loss:  0.9094929509006525\n",
            "--------\n",
            "Training..... epoch nr:  6\n",
            "train loss:  0.8593045305875512\n",
            "--------\n",
            "Training..... epoch nr:  7\n",
            "train loss:  0.8188153217783899\n",
            "--------\n",
            "Training..... epoch nr:  8\n",
            "train loss:  0.7860050055363231\n",
            "--------\n",
            "Training..... epoch nr:  9\n",
            "train loss:  0.7582240884521615\n",
            "--------\n",
            "Training..... epoch nr:  10\n",
            "train loss:  0.7352795007986632\n",
            "--------\n",
            "Training..... epoch nr:  11\n",
            "train loss:  0.7148991766018635\n",
            "--------\n",
            "Training..... epoch nr:  12\n",
            "train loss:  0.6974163156184721\n",
            "--------\n",
            "Training..... epoch nr:  13\n",
            "train loss:  0.6811963767339392\n",
            "--------\n",
            "Training..... epoch nr:  14\n",
            "train loss:  0.6667022430738115\n",
            "--------\n",
            "Stopping early...\n",
            "train losses: 1.8995 / 1.4175 / 1.1948 / 1.0639 / 0.9740 / 0.9095 / 0.8593 / 0.8188 / 0.7860 / 0.7582 / 0.7353 / 0.7149 / 0.6974 / 0.6812 / 0.6667\n",
            "val   losses: 0.4717 / 0.4840 / 0.5912 / 0.4842 / 0.4176 / 0.5760 / 0.3416 / 0.8078 / 0.3231 / 0.5183 / 0.8220 / 0.1731 / 0.3206 / 0.2864 / 0.2439 / 0.7306 / 0.2595 / 0.5904 / 0.2447 / 0.6989 / 0.3896 / 0.5526 / 0.2932 / 0.3206 / 0.1481 / 0.3572 / 0.2909 / 0.2843 / 0.6300 / 0.7361 / 0.8685 / 0.4311 / 0.5826 / 0.8282 / 0.6725 / 0.2721 / 0.7895 / 0.3393 / 0.2945 / 0.1981 / 0.6431 / 0.6565 / 0.5096 / 0.7315 / 0.2652 / 0.8269 / 0.2558 / 0.3350 / 0.8115 / 0.9166 / 0.7100 / 0.5071 / 0.4738 / 0.6579 / 0.4897 / 1.0015 / 0.5452 / 1.1962 / 1.2202\n"
          ],
          "name": "stdout"
        }
      ]
    },
    {
      "cell_type": "code",
      "metadata": {
        "colab": {
          "base_uri": "https://localhost:8080/",
          "height": 265
        },
        "id": "LIXDclLpntmM",
        "outputId": "7a67fa45-3617-4ee4-a3b1-24204c586160"
      },
      "source": [
        "import matplotlib.pyplot as plt\n",
        "plt.plot(epoch_losses)\n",
        "plt.ylabel(n_epochs)\n",
        "plt.show()"
      ],
      "execution_count": null,
      "outputs": [
        {
          "output_type": "display_data",
          "data": {
            "image/png": "[encoded data removed]",
            "text/plain": [
              "<Figure size 432x288 with 1 Axes>"
            ]
          },
          "metadata": {
            "tags": [],
            "needs_background": "light"
          }
        }
      ]
    },
    {
      "cell_type": "code",
      "metadata": {
        "colab": {
          "base_uri": "https://localhost:8080/",
          "height": 265
        },
        "id": "gbiznzHfntmM",
        "outputId": "6e37ceaf-8bef-44ba-f7de-576e8227cacc"
      },
      "source": [
        "import matplotlib.pyplot as plt\n",
        "plt.plot(val_accs)\n",
        "plt.ylabel(n_epochs)\n",
        "plt.show()"
      ],
      "execution_count": null,
      "outputs": [
        {
          "output_type": "display_data",
          "data": {
            "image/png": "[encoded data removed]",
            "text/plain": [
              "<Figure size 432x288 with 1 Axes>"
            ]
          },
          "metadata": {
            "tags": [],
            "needs_background": "light"
          }
        }
      ]
    },
    {
      "cell_type": "markdown",
      "metadata": {
        "id": "oZ3Hr8WplthG"
      },
      "source": [
        "We then added option lemmas, MLP and weights to balance weights.\n",
        "The results are seen below "
      ]
    },
    {
      "cell_type": "code",
      "metadata": {
        "colab": {
          "base_uri": "https://localhost:8080/"
        },
        "id": "jjSKO4orlYbQ",
        "outputId": "a93cded2-9ec1-438d-95c9-3fa9da2d6772"
      },
      "source": [
        "classifier_mlp_weights_lemmas = WSDClassifier(num_labels, device = 'cuda', use_mlp = True, hidden_size = 100,nbr_lemmas = len(lemma2i), lemma_embedding_size = 518, add_lemmas = True)"
      ],
      "execution_count": null,
      "outputs": [
        {
          "output_type": "stream",
          "text": [
            "lemmahidden 1286\n"
          ],
          "name": "stdout"
        }
      ]
    },
    {
      "cell_type": "code",
      "metadata": {
        "id": "4s6pTO8_m02p"
      },
      "source": [
        "#for name, param in classifier.named_parameters():\n",
        "  #print(\"PARAM named %s, of shape %s\" % (name, str(param.shape)))\n",
        "  #print(param.requires_grad)"
      ],
      "execution_count": null,
      "outputs": []
    },
    {
      "cell_type": "code",
      "metadata": {
        "colab": {
          "base_uri": "https://localhost:8080/"
        },
        "id": "3nQUTyr5l4fj",
        "outputId": "e930755d-9dd1-4776-f3d7-3fdff97cdee6"
      },
      "source": [
        "# training\n",
        "from statistics import mean\n",
        "import numpy as np\n",
        "stop_early = 0\n",
        "early_stopping_patience = 6\n",
        "\n",
        "BATCH_SIZE = 32\n",
        "LR = 0.0005\n",
        "n_epochs = 30\n",
        "import numpy as np\n",
        "from sklearn.utils.class_weight import compute_class_weight\n",
        "class_weight = compute_class_weight(\"balanced\", np.unique(list(label2i.values())),list(label2i.values()))\n",
        "\n",
        "class_weight = torch.tensor(class_weight, dtype=torch.float).to(classifier.device)\n",
        "\n",
        "#loss_function = nn.CrossEntropyLoss()\n",
        "loss_function = nn.NLLLoss(weight = class_weight) \n",
        "#optimizer = optim.SGD(classifier.parameters(), lr=LR)\n",
        "optimizer = optim.Adam(classifier_mlp_weights_lemmas.parameters(), lr=LR)\n",
        "\n",
        "config_name = 'sequoiaftb.asfalda_1_3.wsd.lr' + 'Adam' + str(LR) + '_bs' + str(BATCH_SIZE)\n",
        "out_model_file = './' + config_name + '.model'\n",
        "out_log_file = './' + config_name + '.log'\n",
        "\n",
        "\n",
        "# perte à chaque époque (sur le train / sur le validation set)\n",
        "train_losses = []\n",
        "val_losses = []\n",
        "val_accs = []\n",
        "min_val_loss = None\n",
        "epoch_losses = []\n",
        "# pour tests: utiliser training sur dev\n",
        "#train_data = data['dev'] # data['train']\n",
        "train_data = wsd_data['train']\n",
        "val_data = wsd_data['val']\n",
        "dev_data = wsd_data['dev']\n",
        "\n",
        "val_accs = []\n",
        "\n",
        "print('Training.....')\n",
        "acc = 0\n",
        "for epoch in range(n_epochs):  # loop over the dataset multiple times\n",
        "  classifier_mlp_weights_lemmas.train()\n",
        "  \n",
        "  print('acc',acc)\n",
        "  print('Training..... epoch nr: ', epoch)\n",
        "  for b_tid_seqs, b_tg_trks, b_labels, b_lemma_idx in train_data.make_batches(64, shuffle_data=True):\n",
        "    \n",
        "  \n",
        "    optimizer.zero_grad()\n",
        "    b_tid_seqs = torch.tensor(b_tid_seqs, device=classifier_mlp_weights_lemmas.device).to(classifier_mlp_weights_lemmas.device)\n",
        "    b_tg_trks = torch.tensor(b_tg_trks, device=classifier_mlp_weights_lemmas.device).to(classifier_mlp_weights_lemmas.device)\n",
        "    b_labels = torch.tensor(b_labels, device=classifier_mlp_weights_lemmas.device).to(classifier_mlp_weights_lemmas.device)\n",
        "    b_lemma_idx = torch.tensor(b_lemma_idx, device=classifier_mlp_weights_lemmas.device).to(classifier_mlp_weights_lemmas.device)\n",
        "    log_probs = classifier_mlp_weights_lemmas(b_tid_seqs, b_tg_trks, b_lemma_idx).to(classifier_mlp_weights_lemmas.device)\n",
        "  \n",
        "    loss = loss_function(log_probs,  b_labels)\n",
        "    \n",
        "    loss.backward()\n",
        "    optimizer.step()\n",
        "    train_losses.append(loss.item())\n",
        "  epoch_losses.append(sum(train_losses)/len(train_losses))\n",
        " \n",
        "  pred_labels, val_losses, val_acc, _, _ = classifier_mlp_weights_lemmas.run_on_dataset(val_data, optimizer, batch_size=32, validation_use=True)\n",
        "  val_accs.append(val_acc)\n",
        "  print('--------')\n",
        "  print('train loss: ',epoch_losses[-1],'val accuracy: ', val_acc)\n",
        "  print('--------')\n",
        " \n",
        "  if val_acc>=acc:\n",
        "    acc=val_acc\n",
        "  else:\n",
        "    early_stopping_patience +=1\n",
        "    if early_stopping_patience == stop_early:\n",
        "      print('Stopping early...')\n",
        "      break\n",
        "\n",
        "  \n",
        "    \n",
        "  \n",
        " \n",
        "\n",
        "\n",
        "        \n",
        "  \n",
        "           \n",
        "# TODO HERE\n",
        "# training\n",
        "# - basic : train for NB_EPOCHS +\n",
        "# - BONUS : early stopping: stop epoch loop as soon as accuracy on dev decreases+\n",
        "\n",
        "# don't forget to toggle \n",
        "# - classifier.train() when training on train\n",
        "# - classifier.eval() when evaluating on val corpus\n",
        "\n",
        "\n",
        "print(\"train losses: %s\" % ' / '.join([ \"%.4f\" % x for x in epoch_losses]))\n",
        "print(\"val   losses: %s\" % ' / '.join([ \"%.4f\" % x for x in val_losses]))\n",
        "\n"
      ],
      "execution_count": null,
      "outputs": [
        {
          "output_type": "stream",
          "text": [
            "Training.....\n",
            "acc 0\n",
            "Training..... epoch nr:  0\n",
            "--------\n",
            "train loss:  2.427831932619044 val accuracy:  0.6674905838041432\n",
            "--------\n",
            "acc 0.6674905838041432\n",
            "Training..... epoch nr:  1\n",
            "--------\n",
            "train loss:  1.9151406714218198 val accuracy:  0.750882768361582\n",
            "--------\n",
            "acc 0.750882768361582\n",
            "Training..... epoch nr:  2\n",
            "--------\n",
            "train loss:  1.634779173158421 val accuracy:  0.7776012241054614\n",
            "--------\n",
            "acc 0.7776012241054614\n",
            "Training..... epoch nr:  3\n",
            "--------\n",
            "train loss:  1.4515471636342459 val accuracy:  0.7937853107344632\n",
            "--------\n",
            "acc 0.7937853107344632\n",
            "Training..... epoch nr:  4\n",
            "--------\n",
            "train loss:  1.3227205254959062 val accuracy:  0.8052024482109228\n",
            "--------\n",
            "acc 0.8052024482109228\n",
            "Training..... epoch nr:  5\n",
            "--------\n",
            "train loss:  1.225951257805105 val accuracy:  0.813382768361582\n",
            "--------\n",
            "acc 0.813382768361582\n",
            "Training..... epoch nr:  6\n",
            "--------\n",
            "train loss:  1.1484279026161517 val accuracy:  0.8211511299435028\n",
            "--------\n",
            "acc 0.8211511299435028\n",
            "Training..... epoch nr:  7\n",
            "--------\n",
            "train loss:  1.0861766667958674 val accuracy:  0.8237405838041432\n",
            "--------\n",
            "acc 0.8237405838041432\n",
            "Training..... epoch nr:  8\n",
            "--------\n",
            "train loss:  1.0346789315097384 val accuracy:  0.8319797551789078\n",
            "--------\n",
            "acc 0.8319797551789078\n",
            "Training..... epoch nr:  9\n",
            "--------\n",
            "train loss:  0.9913825253796668 val accuracy:  0.8303319209039548\n",
            "--------\n",
            "acc 0.8319797551789078\n",
            "Training..... epoch nr:  10\n",
            "--------\n",
            "train loss:  0.954040287524163 val accuracy:  0.83674670433145\n",
            "--------\n",
            "acc 0.83674670433145\n",
            "Training..... epoch nr:  11\n",
            "--------\n",
            "train loss:  0.921432346861021 val accuracy:  0.8380414312617702\n",
            "--------\n",
            "acc 0.8380414312617702\n",
            "Training..... epoch nr:  12\n",
            "--------\n",
            "train loss:  0.8928167579134991 val accuracy:  0.8409839924670434\n",
            "--------\n",
            "acc 0.8409839924670434\n",
            "Training..... epoch nr:  13\n",
            "--------\n",
            "train loss:  0.8673561959568409 val accuracy:  0.8417490583804144\n",
            "--------\n",
            "acc 0.8417490583804144\n",
            "Training..... epoch nr:  14\n",
            "--------\n",
            "train loss:  0.8455477301989822 val accuracy:  0.8435734463276836\n",
            "--------\n",
            "acc 0.8435734463276836\n",
            "Training..... epoch nr:  15\n",
            "--------\n",
            "train loss:  0.825202478704967 val accuracy:  0.841454802259887\n",
            "--------\n",
            "acc 0.8435734463276836\n",
            "Training..... epoch nr:  16\n",
            "--------\n",
            "train loss:  0.8069732998760454 val accuracy:  0.8417490583804144\n",
            "--------\n",
            "acc 0.8435734463276836\n",
            "Training..... epoch nr:  17\n",
            "--------\n",
            "train loss:  0.7902206173949621 val accuracy:  0.8542255178907722\n",
            "--------\n",
            "acc 0.8542255178907722\n",
            "Training..... epoch nr:  18\n",
            "--------\n",
            "train loss:  0.7745841615541663 val accuracy:  0.8478107344632768\n",
            "--------\n",
            "acc 0.8542255178907722\n",
            "Training..... epoch nr:  19\n",
            "--------\n",
            "train loss:  0.7610470297020424 val accuracy:  0.84439736346516\n",
            "--------\n",
            "acc 0.8542255178907722\n",
            "Training..... epoch nr:  20\n",
            "--------\n",
            "train loss:  0.7478815547510828 val accuracy:  0.8539901129943502\n",
            "--------\n",
            "acc 0.8542255178907722\n",
            "Training..... epoch nr:  21\n",
            "--------\n",
            "train loss:  0.7359174882257187 val accuracy:  0.8444562146892656\n",
            "--------\n",
            "acc 0.8542255178907722\n",
            "Training..... epoch nr:  22\n",
            "--------\n",
            "train loss:  0.7249607683942622 val accuracy:  0.849988229755179\n",
            "--------\n",
            "acc 0.8542255178907722\n",
            "Training..... epoch nr:  23\n",
            "--------\n",
            "train loss:  0.7146542509179681 val accuracy:  0.8483992467043314\n",
            "--------\n",
            "acc 0.8542255178907722\n",
            "Training..... epoch nr:  24\n",
            "--------\n",
            "train loss:  0.7049462793625806 val accuracy:  0.8489289077212806\n",
            "--------\n",
            "acc 0.8542255178907722\n",
            "Training..... epoch nr:  25\n",
            "--------\n",
            "train loss:  0.695715570990699 val accuracy:  0.8462806026365348\n",
            "--------\n",
            "acc 0.8542255178907722\n",
            "Training..... epoch nr:  26\n",
            "--------\n",
            "train loss:  0.687250320677807 val accuracy:  0.8524011299435028\n",
            "--------\n",
            "acc 0.8542255178907722\n",
            "Training..... epoch nr:  27\n",
            "--------\n",
            "train loss:  0.6794884567862778 val accuracy:  0.8502236346516008\n",
            "--------\n",
            "acc 0.8542255178907722\n",
            "Training..... epoch nr:  28\n",
            "--------\n",
            "train loss:  0.6720663207444292 val accuracy:  0.8459863465160076\n",
            "--------\n",
            "acc 0.8542255178907722\n",
            "Training..... epoch nr:  29\n",
            "--------\n",
            "train loss:  0.6649078351444315 val accuracy:  0.8422787193973634\n",
            "--------\n",
            "train losses: 2.4278 / 1.9151 / 1.6348 / 1.4515 / 1.3227 / 1.2260 / 1.1484 / 1.0862 / 1.0347 / 0.9914 / 0.9540 / 0.9214 / 0.8928 / 0.8674 / 0.8455 / 0.8252 / 0.8070 / 0.7902 / 0.7746 / 0.7610 / 0.7479 / 0.7359 / 0.7250 / 0.7147 / 0.7049 / 0.6957 / 0.6873 / 0.6795 / 0.6721 / 0.6649\n",
            "val   losses: 0.3945 / 0.5578 / 0.4161 / 0.3838 / 0.3302 / 0.5408 / 0.3647 / 0.6740 / 0.2585 / 0.3683 / 0.6790 / 0.0980 / 0.3361 / 0.2441 / 0.2156 / 0.4685 / 0.2593 / 0.6006 / 0.2722 / 0.8707 / 0.4974 / 0.4690 / 0.1294 / 0.2947 / 0.1399 / 0.3200 / 0.2745 / 0.2232 / 0.5610 / 0.7474 / 0.9552 / 0.5497 / 0.4498 / 0.5466 / 0.5813 / 0.2580 / 0.7715 / 0.3592 / 0.3879 / 0.2769 / 0.4936 / 0.5239 / 0.4745 / 0.6280 / 0.2771 / 0.8161 / 0.2200 / 0.3350 / 0.6461 / 0.7180 / 0.8183 / 0.4106 / 0.3738 / 0.4900 / 0.1684 / 1.1720 / 0.6848 / 0.9733 / 1.3040\n"
          ],
          "name": "stdout"
        }
      ]
    },
    {
      "cell_type": "code",
      "metadata": {
        "colab": {
          "base_uri": "https://localhost:8080/",
          "height": 269
        },
        "id": "L7KhwZHXvnQc",
        "outputId": "b420b714-840c-431a-9e3e-13dd68779b0b"
      },
      "source": [
        "import matplotlib.pyplot as plt\n",
        "plt.plot(epoch_losses)\n",
        "plt.ylabel(n_epochs)\n",
        "plt.show()"
      ],
      "execution_count": null,
      "outputs": [
        {
          "output_type": "display_data",
          "data": {
            "image/png": "[encoded data removed]",
            "text/plain": [
              "<Figure size 432x288 with 1 Axes>"
            ]
          },
          "metadata": {
            "tags": [],
            "needs_background": "light"
          }
        }
      ]
    },
    {
      "cell_type": "code",
      "metadata": {
        "id": "O8v2EgUGvo_m",
        "colab": {
          "base_uri": "https://localhost:8080/",
          "height": 265
        },
        "outputId": "d141ae2e-807d-4113-c039-27bf142127b5"
      },
      "source": [
        "import matplotlib.pyplot as plt\n",
        "plt.plot(val_accs)\n",
        "plt.ylabel(n_epochs)\n",
        "plt.show()"
      ],
      "execution_count": null,
      "outputs": [
        {
          "output_type": "display_data",
          "data": {
            "image/png": "[encoded data removed]",
            "text/plain": [
              "<Figure size 432x288 with 1 Axes>"
            ]
          },
          "metadata": {
            "tags": [],
            "needs_background": "light"
          }
        }
      ]
    },
    {
      "cell_type": "markdown",
      "metadata": {
        "id": "rsgc93t3XPkN"
      },
      "source": [
        "Below is a variant of classifier using class weight and MLP layer but NOT lemmas"
      ]
    },
    {
      "cell_type": "code",
      "metadata": {
        "id": "GugrUBWavbnB"
      },
      "source": [
        "classifier_mlp_weights = WSDClassifier(num_labels, device = 'cuda', use_mlp = True, hidden_size = 100,nbr_lemmas = len(lemma2i), lemma_embedding_size = 518, add_lemmas = False)"
      ],
      "execution_count": null,
      "outputs": []
    },
    {
      "cell_type": "code",
      "metadata": {
        "colab": {
          "base_uri": "https://localhost:8080/"
        },
        "id": "6Tqpu49MvgrG",
        "outputId": "ecdc6a74-5dfe-4e05-d446-ce07d6546b26"
      },
      "source": [
        "# training\n",
        "from statistics import mean\n",
        "import numpy as np\n",
        "stop_early = 0\n",
        "early_stopping_patience = 6\n",
        "\n",
        "BATCH_SIZE = 32\n",
        "LR = 0.0005\n",
        "n_epochs = 25\n",
        "import numpy as np\n",
        "from sklearn.utils.class_weight import compute_class_weight\n",
        "class_weight = compute_class_weight(\"balanced\", np.unique(list(label2i.values())),list(label2i.values()))\n",
        "\n",
        "class_weight = torch.tensor(class_weight, dtype=torch.float).to(classifier.device)\n",
        "\n",
        "#loss_function = nn.CrossEntropyLoss()\n",
        "loss_function = nn.NLLLoss(weight = class_weight) \n",
        "#optimizer = optim.SGD(classifier_mlp_weights.parameters(), lr=LR)\n",
        "optimizer = optim.Adam(classifier_mlp_weights.parameters(), lr=LR)\n",
        "\n",
        "config_name = 'sequoiaftb.asfalda_1_3.wsd.lr' + 'Adam' + str(LR) + '_bs' + str(BATCH_SIZE)\n",
        "out_model_file = './' + config_name + '.model'\n",
        "out_log_file = './' + config_name + '.log'\n",
        "\n",
        "\n",
        "# perte à chaque époque (sur le train / sur le validation set)\n",
        "train_losses = []\n",
        "val_losses = []\n",
        "val_accs = []\n",
        "min_val_loss = None\n",
        "epoch_losses = []\n",
        "# pour tests: utiliser training sur dev\n",
        "#train_data = data['dev'] # data['train']\n",
        "train_data = wsd_data['train']\n",
        "val_data = wsd_data['val']\n",
        "dev_data = wsd_data['dev']\n",
        "classifier_mlp_weights.train()\n",
        "\n",
        "print('Training.....')\n",
        "acc = 0\n",
        "for epoch in range(n_epochs):  # loop over the dataset multiple times\n",
        "  classifier_mlp_weights.train()\n",
        "  \n",
        "  print('acc',acc)\n",
        "  print('Training..... epoch nr: ', epoch)\n",
        "  for b_tid_seqs, b_tg_trks, b_labels, b_lemma_idx in train_data.make_batches(64, shuffle_data=True):\n",
        "    \n",
        "  \n",
        "    optimizer.zero_grad()\n",
        "    b_tid_seqs = torch.tensor(b_tid_seqs, device=classifier_mlp_weights.device).to(classifier_mlp_weights.device)\n",
        "    b_tg_trks = torch.tensor(b_tg_trks, device=classifier_mlp_weights.device).to(classifier_mlp_weights.device)\n",
        "    b_labels = torch.tensor(b_labels, device=classifier_mlp_weights.device).to(classifier_mlp_weights.device)\n",
        "    b_lemma_idx = torch.tensor(b_lemma_idx, device=classifier_mlp_weights.device).to(classifier_mlp_weights.device)\n",
        "    log_probs = classifier_mlp_weights(b_tid_seqs, b_tg_trks, b_lemma_idx).to(classifier_mlp_weights.device)\n",
        "  \n",
        "    loss = loss_function(log_probs,  b_labels)\n",
        "    \n",
        "    loss.backward()\n",
        "    optimizer.step()\n",
        "    train_losses.append(loss.item())\n",
        "  epoch_losses.append(sum(train_losses)/len(train_losses))\n",
        "  \n",
        "  pred_labels, val_losses, val_acc, _, _ =classifier_mlp_weights.run_on_dataset(val_data, optimizer, batch_size=32, validation_use=True)\n",
        "  val_accs.append(val_acc)\n",
        "  print('--------')\n",
        "  print('train loss: ',epoch_losses[-1],'val accuracy: ', val_acc)\n",
        "  print('--------')\n",
        " \n",
        "  if val_acc>=acc:\n",
        "    acc=val_acc\n",
        "  else:\n",
        "    early_stopping_patience +=1\n",
        "    if early_stopping_patience == stop_early:\n",
        "      print('Stopping early...')\n",
        "      break\n",
        "\n",
        "  \n",
        "    \n",
        "  \n",
        " \n",
        "\n",
        "\n",
        "        \n",
        "  \n",
        "           \n",
        "# TODO HERE\n",
        "# training\n",
        "# - basic : train for NB_EPOCHS +\n",
        "# - BONUS : early stopping: stop epoch loop as soon as accuracy on dev decreases+\n",
        "\n",
        "# don't forget to toggle \n",
        "# - classifier.train() when training on train\n",
        "# - classifier.eval() when evaluating on val corpus\n",
        "\n",
        "\n",
        "print(\"train losses: %s\" % ' / '.join([ \"%.4f\" % x for x in epoch_losses]))\n",
        "print(\"val   losses: %s\" % ' / '.join([ \"%.4f\" % x for x in val_losses]))\n",
        "\n"
      ],
      "execution_count": null,
      "outputs": [
        {
          "output_type": "stream",
          "text": [
            "Training.....\n",
            "acc 0\n",
            "Training..... epoch nr:  0\n",
            "--------\n",
            "train loss:  2.4700915464430255 val accuracy:  0.6634887005649718\n",
            "--------\n",
            "acc 0.6634887005649718\n",
            "Training..... epoch nr:  1\n",
            "--------\n",
            "train loss:  1.9382467915803308 val accuracy:  0.7461158192090396\n",
            "--------\n",
            "acc 0.7461158192090396\n",
            "Training..... epoch nr:  2\n",
            "--------\n",
            "train loss:  1.6437570344661427 val accuracy:  0.781367702448211\n",
            "--------\n",
            "acc 0.781367702448211\n",
            "Training..... epoch nr:  3\n",
            "--------\n",
            "train loss:  1.4556877709670213 val accuracy:  0.7986111111111112\n",
            "--------\n",
            "acc 0.7986111111111112\n",
            "Training..... epoch nr:  4\n",
            "--------\n",
            "train loss:  1.3212100524866082 val accuracy:  0.7996704331450094\n",
            "--------\n",
            "acc 0.7996704331450094\n",
            "Training..... epoch nr:  5\n",
            "--------\n",
            "train loss:  1.2209217516075068 val accuracy:  0.821680790960452\n",
            "--------\n",
            "acc 0.821680790960452\n",
            "Training..... epoch nr:  6\n",
            "--------\n",
            "train loss:  1.141903290681901 val accuracy:  0.8264477401129944\n",
            "--------\n",
            "acc 0.8264477401129944\n",
            "Training..... epoch nr:  7\n",
            "--------\n",
            "train loss:  1.07873979178275 val accuracy:  0.8277424670433146\n",
            "--------\n",
            "acc 0.8277424670433146\n",
            "Training..... epoch nr:  8\n",
            "--------\n",
            "train loss:  1.025772965881056 val accuracy:  0.8282721280602636\n",
            "--------\n",
            "acc 0.8282721280602636\n",
            "Training..... epoch nr:  9\n",
            "--------\n",
            "train loss:  0.9805041235209417 val accuracy:  0.837511770244821\n",
            "--------\n",
            "acc 0.837511770244821\n",
            "Training..... epoch nr:  10\n",
            "--------\n",
            "train loss:  0.942586006578013 val accuracy:  0.842337570621469\n",
            "--------\n",
            "acc 0.842337570621469\n",
            "Training..... epoch nr:  11\n",
            "--------\n",
            "train loss:  0.9097324055259521 val accuracy:  0.8335687382297552\n",
            "--------\n",
            "acc 0.842337570621469\n",
            "Training..... epoch nr:  12\n",
            "--------\n",
            "train loss:  0.8808361027116279 val accuracy:  0.8348634651600754\n",
            "--------\n",
            "acc 0.842337570621469\n",
            "Training..... epoch nr:  13\n",
            "--------\n",
            "train loss:  0.8549144969669326 val accuracy:  0.8415136534839924\n",
            "--------\n",
            "acc 0.842337570621469\n",
            "Training..... epoch nr:  14\n",
            "--------\n",
            "train loss:  0.8317189445022697 val accuracy:  0.84310263653484\n",
            "--------\n",
            "acc 0.84310263653484\n",
            "Training..... epoch nr:  15\n",
            "--------\n",
            "train loss:  0.8112850315026061 val accuracy:  0.8415136534839924\n",
            "--------\n",
            "acc 0.84310263653484\n",
            "Training..... epoch nr:  16\n",
            "--------\n",
            "train loss:  0.7925157343493402 val accuracy:  0.8409251412429378\n",
            "--------\n",
            "acc 0.84310263653484\n",
            "Training..... epoch nr:  17\n",
            "--------\n",
            "train loss:  0.7749914812655151 val accuracy:  0.8481638418079096\n",
            "--------\n",
            "acc 0.8481638418079096\n",
            "Training..... epoch nr:  18\n",
            "--------\n",
            "train loss:  0.759392044372217 val accuracy:  0.8449858757062146\n",
            "--------\n",
            "acc 0.8481638418079096\n",
            "Training..... epoch nr:  19\n",
            "--------\n",
            "train loss:  0.7452590936263704 val accuracy:  0.8409839924670434\n",
            "--------\n",
            "acc 0.8481638418079096\n",
            "Training..... epoch nr:  20\n",
            "--------\n",
            "train loss:  0.7320001420552977 val accuracy:  0.846810263653484\n",
            "--------\n",
            "acc 0.8481638418079096\n",
            "Training..... epoch nr:  21\n",
            "--------\n",
            "train loss:  0.7193947119198577 val accuracy:  0.8478695856873822\n",
            "--------\n",
            "acc 0.8481638418079096\n",
            "Training..... epoch nr:  22\n",
            "--------\n",
            "train loss:  0.7078353842441101 val accuracy:  0.852930790960452\n",
            "--------\n",
            "acc 0.852930790960452\n",
            "Training..... epoch nr:  23\n",
            "--------\n",
            "train loss:  0.6965644932688416 val accuracy:  0.8516360640301318\n",
            "--------\n",
            "acc 0.852930790960452\n",
            "Training..... epoch nr:  24\n",
            "--------\n",
            "train loss:  0.6864654910201808 val accuracy:  0.8526953860640302\n",
            "--------\n",
            "train losses: 2.4701 / 1.9382 / 1.6438 / 1.4557 / 1.3212 / 1.2209 / 1.1419 / 1.0787 / 1.0258 / 0.9805 / 0.9426 / 0.9097 / 0.8808 / 0.8549 / 0.8317 / 0.8113 / 0.7925 / 0.7750 / 0.7594 / 0.7453 / 0.7320 / 0.7194 / 0.7078 / 0.6966 / 0.6865\n",
            "val   losses: 0.4936 / 0.4713 / 0.4274 / 0.3889 / 0.3491 / 0.6803 / 0.4361 / 0.7116 / 0.2688 / 0.2641 / 0.6634 / 0.1300 / 0.3933 / 0.2429 / 0.1665 / 0.4976 / 0.2892 / 0.8308 / 0.3074 / 0.7305 / 0.3445 / 0.5727 / 0.2111 / 0.2811 / 0.1458 / 0.3656 / 0.2555 / 0.2266 / 0.4744 / 0.5526 / 0.7961 / 0.4539 / 0.3430 / 0.6532 / 0.5964 / 0.2374 / 0.5926 / 0.3336 / 0.4169 / 0.2277 / 0.6507 / 0.4832 / 0.3359 / 0.6586 / 0.3503 / 0.7294 / 0.1902 / 0.3125 / 0.7607 / 0.8454 / 0.6253 / 0.4762 / 0.4385 / 0.4368 / 0.3357 / 1.1616 / 0.5456 / 0.7593 / 0.9372\n",
            "mean train loss : \n",
            "mean val loss : \n"
          ],
          "name": "stdout"
        }
      ]
    },
    {
      "cell_type": "code",
      "metadata": {
        "colab": {
          "base_uri": "https://localhost:8080/",
          "height": 265
        },
        "id": "iICXMb1IwDbZ",
        "outputId": "8b1373c2-0905-4dfe-c329-0f6238b0ecda"
      },
      "source": [
        "import matplotlib.pyplot as plt\n",
        "plt.plot(epoch_losses)\n",
        "plt.ylabel(n_epochs)\n",
        "plt.show()"
      ],
      "execution_count": null,
      "outputs": [
        {
          "output_type": "display_data",
          "data": {
            "image/png": "[encoded data removed]",
            "text/plain": [
              "<Figure size 432x288 with 1 Axes>"
            ]
          },
          "metadata": {
            "tags": [],
            "needs_background": "light"
          }
        }
      ]
    },
    {
      "cell_type": "code",
      "metadata": {
        "colab": {
          "base_uri": "https://localhost:8080/",
          "height": 265
        },
        "id": "F93P9OlMwDbk",
        "outputId": "f5e8444c-c0f9-4c1c-b63c-70d974557239"
      },
      "source": [
        "import matplotlib.pyplot as plt\n",
        "plt.plot(val_accs)\n",
        "plt.ylabel(n_epochs)\n",
        "plt.show()"
      ],
      "execution_count": null,
      "outputs": [
        {
          "output_type": "display_data",
          "data": {
            "image/png": "[encoded data removed]",
            "text/plain": [
              "<Figure size 432x288 with 1 Axes>"
            ]
          },
          "metadata": {
            "tags": [],
            "needs_background": "light"
          }
        }
      ]
    },
    {
      "cell_type": "markdown",
      "metadata": {
        "id": "jHt6rTougG0K"
      },
      "source": [
        "### Evaluation"
      ]
    },
    {
      "cell_type": "code",
      "metadata": {
        "id": "lYvpk9VHb4CD"
      },
      "source": [
        "test_data = wsd_data['test']"
      ],
      "execution_count": null,
      "outputs": []
    },
    {
      "cell_type": "markdown",
      "metadata": {
        "id": "7XjSdDIGTf3a"
      },
      "source": [
        "**Normal version of classifier**"
      ]
    },
    {
      "cell_type": "code",
      "metadata": {
        "id": "hHYxcJBNexzB",
        "colab": {
          "base_uri": "https://localhost:8080/"
        },
        "outputId": "f88194d0-d169-4a75-ac61-b70f6246aafd"
      },
      "source": [
        "# TODO HERE : run on dev and evaluate\n",
        "pred_labels, val_losses, dev_acc, b_labels, _ = classifier.run_on_dataset(dev_data, optimizer, batch_size=32, validation_use=False)\n",
        "pred_labels, val_losses, test_acc, b_labels, _ = classifier.run_on_dataset(test_data, optimizer, batch_size=32, validation_use=False)\n",
        "\n"
      ],
      "execution_count": null,
      "outputs": [
        {
          "output_type": "stream",
          "text": [
            "/usr/local/lib/python3.6/dist-packages/ipykernel_launcher.py:68: UserWarning: To copy construct from a tensor, it is recommended to use sourceTensor.clone().detach() or sourceTensor.clone().detach().requires_grad_(True), rather than torch.tensor(sourceTensor).\n"
          ],
          "name": "stderr"
        }
      ]
    },
    {
      "cell_type": "code",
      "metadata": {
        "colab": {
          "base_uri": "https://localhost:8080/"
        },
        "id": "2VHBqVMXT0WW",
        "outputId": "1e0c7e43-1c79-4ebb-fbe4-501abb5dee69"
      },
      "source": [
        "print('dev acc: ', dev_acc, 'test acc:', test_acc)"
      ],
      "execution_count": null,
      "outputs": [
        {
          "output_type": "stream",
          "text": [
            "dev acc:  0.8452380952380952 test acc: 0.8507070249597424\n"
          ],
          "name": "stdout"
        }
      ]
    },
    {
      "cell_type": "markdown",
      "metadata": {
        "id": "ZH92iHUaTjGA"
      },
      "source": [
        "**Classifier with mlp, lemmas and weights**"
      ]
    },
    {
      "cell_type": "code",
      "metadata": {
        "id": "unUsvJIJb_M5"
      },
      "source": [
        "pred_labels, val_losses, dev_acc1, b_labels, _ = classifier_mlp_weights_lemmas.run_on_dataset(dev_data, optimizer, batch_size=32, validation_use=False)\n",
        "pred_labels, val_losses, test_acc1, b_labels, _ = classifier_mlp_weights_lemmas.run_on_dataset(test_data, optimizer, batch_size=32, validation_use=False)"
      ],
      "execution_count": null,
      "outputs": []
    },
    {
      "cell_type": "code",
      "metadata": {
        "colab": {
          "base_uri": "https://localhost:8080/"
        },
        "id": "Y6RvXGnuT9qE",
        "outputId": "1651c3d4-2b10-47b8-b221-0fcceac76a00"
      },
      "source": [
        "print('dev acc: ', dev_acc1, 'test acc:', test_acc1)"
      ],
      "execution_count": null,
      "outputs": [
        {
          "output_type": "stream",
          "text": [
            "dev acc:  0.8571428571428571 test acc: 0.8703829508856683\n"
          ],
          "name": "stdout"
        }
      ]
    },
    {
      "cell_type": "markdown",
      "metadata": {
        "id": "58FEY1qRTnlh"
      },
      "source": [
        "**Classifier with weights**"
      ]
    },
    {
      "cell_type": "code",
      "metadata": {
        "colab": {
          "base_uri": "https://localhost:8080/"
        },
        "id": "ex411WDicACm",
        "outputId": "e6e32df1-9148-4628-ca28-9b7c02436623"
      },
      "source": [
        "pred_labels, val_losses, dev_acc2, b_labels, _ = classifier_weights.run_on_dataset(dev_data, optimizer, batch_size=32, validation_use=False)\n",
        "pred_labels, val_losses, test_acc2, b_labels, _ = classifier_weights.run_on_dataset(test_data, optimizer, batch_size=32, validation_use=False)"
      ],
      "execution_count": null,
      "outputs": [
        {
          "output_type": "stream",
          "text": [
            "/usr/local/lib/python3.6/dist-packages/ipykernel_launcher.py:68: UserWarning: To copy construct from a tensor, it is recommended to use sourceTensor.clone().detach() or sourceTensor.clone().detach().requires_grad_(True), rather than torch.tensor(sourceTensor).\n"
          ],
          "name": "stderr"
        }
      ]
    },
    {
      "cell_type": "code",
      "metadata": {
        "colab": {
          "base_uri": "https://localhost:8080/"
        },
        "id": "fGjo_stpUAT7",
        "outputId": "135a38a9-5ca7-4ec9-a8b9-502f739b1e7a"
      },
      "source": [
        "print('dev acc: ', dev_acc2, 'test acc:' , test_acc2)"
      ],
      "execution_count": null,
      "outputs": [
        {
          "output_type": "stream",
          "text": [
            "dev acc:  0.8519345238095238 test acc: 0.8606078904991948\n"
          ],
          "name": "stdout"
        }
      ]
    },
    {
      "cell_type": "markdown",
      "metadata": {
        "id": "5KzKpherTqsj"
      },
      "source": [
        "**Classifier mlp and weights**"
      ]
    },
    {
      "cell_type": "code",
      "metadata": {
        "colab": {
          "base_uri": "https://localhost:8080/"
        },
        "id": "I7tpF6H5cArk",
        "outputId": "ae365b05-0e8f-420e-90ff-bb064f79109a"
      },
      "source": [
        "pred_labels, val_losses, dev_acc3, b_labels, _ = classifier_mlp_weights.run_on_dataset(dev_data, optimizer, batch_size=32, validation_use=False)\n",
        "pred_labels, val_losses, test_acc3, b_labels, _ = classifier_mlp_weights.run_on_dataset(test_data, optimizer, batch_size=32, validation_use=False)"
      ],
      "execution_count": null,
      "outputs": [
        {
          "output_type": "stream",
          "text": [
            "/usr/local/lib/python3.6/dist-packages/ipykernel_launcher.py:68: UserWarning: To copy construct from a tensor, it is recommended to use sourceTensor.clone().detach() or sourceTensor.clone().detach().requires_grad_(True), rather than torch.tensor(sourceTensor).\n"
          ],
          "name": "stderr"
        }
      ]
    },
    {
      "cell_type": "code",
      "metadata": {
        "colab": {
          "base_uri": "https://localhost:8080/"
        },
        "id": "zwrX4nJoUCKS",
        "outputId": "2b07eccf-5fc6-4bdf-bf53-9d253a48c823"
      },
      "source": [
        "print('dev acc: ', dev_acc3, 'test acc:', test_acc3)"
      ],
      "execution_count": null,
      "outputs": [
        {
          "output_type": "stream",
          "text": [
            "dev acc:  0.8586309523809523 test acc: 0.862746578099839\n"
          ],
          "name": "stdout"
        }
      ]
    },
    {
      "cell_type": "markdown",
      "metadata": {
        "id": "--HB8b_iWmU_"
      },
      "source": [
        "**I solved the problem of UserWarning, it's still present in the output cells because I didn't want to retrain everything**"
      ]
    },
    {
      "cell_type": "code",
      "metadata": {
        "id": "BmIAkHHqSbXZ"
      },
      "source": [
        "# BONUS : generalization analysis\n",
        "#   Do you think it would be better to predict seen-in-train lemma/frame associations only ?\n",
        "#   (implement analysis of the predictions to answer that question)\n",
        "\n",
        "# VARIOUS OTHER POSSIBLE BONUSES: does it help to:\n",
        "# - fine-tune with a MLP instead of single layer ? + ADDED\n",
        "# - balance classes (\"Other_sense\" is over represented in dataset) ?+ ADDED\n",
        "#    Not sure, because natural distribution of data is a precious clue (cf. MFS)\n",
        "# - add a lemma embedding of the target ? - nn_embeddings ? + ADDED\n",
        "# - use the average of the target subword tokens instead of the first one only ?\n",
        "# ... other ideas are welcome ...\n",
        "#ADDED also early stopping \n",
        "\n",
        "\n",
        "#@@ Très bien pour les bonus"
      ],
      "execution_count": null,
      "outputs": []
    }
  ]
}